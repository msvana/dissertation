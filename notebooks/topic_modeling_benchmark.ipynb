{
 "cells": [
  {
   "cell_type": "markdown",
   "source": [
    "# Topic Modeling Benchmarks\n",
    "\n",
    "In this notebook I compare two topic modeling methods: BERTopic and LDA. The goal is to choose a method for the proposed framework. "
   ],
   "metadata": {
    "collapsed": false
   },
   "id": "7e719ff3903ae755"
  },
  {
   "cell_type": "code",
   "execution_count": 9,
   "id": "initial_id",
   "metadata": {
    "collapsed": true,
    "ExecuteTime": {
     "end_time": "2023-08-10T09:41:52.111250961Z",
     "start_time": "2023-08-10T09:41:51.140533335Z"
    }
   },
   "outputs": [],
   "source": [
    "import re\n",
    "from collections import Counter\n",
    "from itertools import combinations\n",
    "\n",
    "import matplotlib.pyplot as plt\n",
    "import numpy as np\n",
    "import pandas as pd\n",
    "from bertopic import BERTopic\n",
    "from gensim.corpora.dictionary import Dictionary\n",
    "from gensim.models.ldamodel import LdaModel\n"
   ]
  },
  {
   "cell_type": "markdown",
   "source": [
    "We start by loading a test dataset. We will use a dataset of tweets published from Ostrava which represents the intended use of the proposed framework"
   ],
   "metadata": {
    "collapsed": false
   },
   "id": "10cc1cd368f9ad1a"
  },
  {
   "cell_type": "markdown",
   "source": [
    "## Data preprocessing"
   ],
   "metadata": {
    "collapsed": false
   },
   "id": "5f3d8c267e39043c"
  },
  {
   "cell_type": "code",
   "execution_count": 2,
   "outputs": [
    {
     "data": {
      "text/plain": "            author_id                                          text_orig  \\\n0          2765861635   Bohuzel budou do Tutecka letat dale, jen tank...   \n1  946371211411513346   Já si mohu uložit tvé fotky? Bez svolení? To ...   \n2           729345398                Arsenal-Sporting, 3 hodiny zábavy 👌   \n3  864219563172532224  Levice si mne získala již ve velmi útlém věku. ✨    \n4  917807011152191494         tim jsem byla posedla kdyz mi bylo 11 let    \n\n              date_published  likes  retweets  \\\n0  2023-03-17 02:58:29+00:00      4         1   \n1  2023-03-17 00:40:37+00:00      0         0   \n2  2023-03-16 22:47:06+00:00      7         1   \n3  2023-03-16 21:21:56+00:00     31         2   \n4  2023-03-16 20:18:15+00:00      7         1   \n\n                                             text_en  \n0   Unfortunately, they will continue to fly to T...  \n1   Can I save your pictures? Without permission?...  \n2                 Arsenal-Sporting, 3 hours of fun 👌  \n3        The left won me over at a very young age. ✨  \n4    I was obsessed with it when I was 11 years old.  ",
      "text/html": "<div>\n<style scoped>\n    .dataframe tbody tr th:only-of-type {\n        vertical-align: middle;\n    }\n\n    .dataframe tbody tr th {\n        vertical-align: top;\n    }\n\n    .dataframe thead th {\n        text-align: right;\n    }\n</style>\n<table border=\"1\" class=\"dataframe\">\n  <thead>\n    <tr style=\"text-align: right;\">\n      <th></th>\n      <th>author_id</th>\n      <th>text_orig</th>\n      <th>date_published</th>\n      <th>likes</th>\n      <th>retweets</th>\n      <th>text_en</th>\n    </tr>\n  </thead>\n  <tbody>\n    <tr>\n      <th>0</th>\n      <td>2765861635</td>\n      <td>Bohuzel budou do Tutecka letat dale, jen tank...</td>\n      <td>2023-03-17 02:58:29+00:00</td>\n      <td>4</td>\n      <td>1</td>\n      <td>Unfortunately, they will continue to fly to T...</td>\n    </tr>\n    <tr>\n      <th>1</th>\n      <td>946371211411513346</td>\n      <td>Já si mohu uložit tvé fotky? Bez svolení? To ...</td>\n      <td>2023-03-17 00:40:37+00:00</td>\n      <td>0</td>\n      <td>0</td>\n      <td>Can I save your pictures? Without permission?...</td>\n    </tr>\n    <tr>\n      <th>2</th>\n      <td>729345398</td>\n      <td>Arsenal-Sporting, 3 hodiny zábavy 👌</td>\n      <td>2023-03-16 22:47:06+00:00</td>\n      <td>7</td>\n      <td>1</td>\n      <td>Arsenal-Sporting, 3 hours of fun 👌</td>\n    </tr>\n    <tr>\n      <th>3</th>\n      <td>864219563172532224</td>\n      <td>Levice si mne získala již ve velmi útlém věku. ✨</td>\n      <td>2023-03-16 21:21:56+00:00</td>\n      <td>31</td>\n      <td>2</td>\n      <td>The left won me over at a very young age. ✨</td>\n    </tr>\n    <tr>\n      <th>4</th>\n      <td>917807011152191494</td>\n      <td>tim jsem byla posedla kdyz mi bylo 11 let</td>\n      <td>2023-03-16 20:18:15+00:00</td>\n      <td>7</td>\n      <td>1</td>\n      <td>I was obsessed with it when I was 11 years old.</td>\n    </tr>\n  </tbody>\n</table>\n</div>"
     },
     "execution_count": 2,
     "metadata": {},
     "output_type": "execute_result"
    }
   ],
   "source": [
    "df = pd.read_csv('../datasets/tweets_ostrava_translated.csv', header=None)\n",
    "df.columns = ['author_id', 'text_orig', 'date_published', 'likes', 'retweets', 'text_en']\n",
    "df.head()"
   ],
   "metadata": {
    "collapsed": false,
    "ExecuteTime": {
     "end_time": "2023-08-10T09:31:32.086819461Z",
     "start_time": "2023-08-10T09:31:31.967549872Z"
    }
   },
   "id": "b5bc13ac17809ebd"
  },
  {
   "cell_type": "markdown",
   "source": [
    "We will only work with text with some minimal length. It might be difficult to extract interesting topics from very short texts."
   ],
   "metadata": {
    "collapsed": false
   },
   "id": "322668ea2cd2e1a9"
  },
  {
   "cell_type": "code",
   "execution_count": 3,
   "outputs": [
    {
     "data": {
      "text/plain": "[' Unfortunately, they will continue to fly to Tuteck, but they will refuel in Soci.',\n ' Can I save your pictures? Without permission? Is that allowed? 😂😂 Only ones you send me directly ☺️',\n \"  Banik's box office fraud is a completely different transfer\",\n \" Where the Democrats rule, it looks that way, and it's getting worse.\",\n \" I'm not saying they shouldn't be paid on time. I'm saying that as long as these people are getting paid, it's wrong, they're doing black things with the benefits... Without them, they'd have two choices, they'd either steal or they'd start working properly, that's up to them. That's what the police are there for, to motivate them.\"]"
     },
     "execution_count": 3,
     "metadata": {},
     "output_type": "execute_result"
    }
   ],
   "source": [
    "MIN_TEXT_LENGTH = 60\n",
    "\n",
    "texts = [t for t in df['text_en'].to_list() if isinstance(t, str) and len(t) > MIN_TEXT_LENGTH]\n",
    "texts[:5]"
   ],
   "metadata": {
    "collapsed": false,
    "ExecuteTime": {
     "end_time": "2023-08-10T09:31:34.189366384Z",
     "start_time": "2023-08-10T09:31:34.180490134Z"
    }
   },
   "id": "b3dea8610160205e"
  },
  {
   "cell_type": "markdown",
   "source": [
    "We perform some basic preprocesing"
   ],
   "metadata": {
    "collapsed": false
   },
   "id": "a7afdd186cdb0ea6"
  },
  {
   "cell_type": "code",
   "execution_count": 4,
   "outputs": [
    {
     "data": {
      "text/plain": "['unfortunately they will continue to fly to tuteck but they will refuel in soci',\n 'can i save your pictures without permission is that allowed  only ones you send me directly ',\n \"banik's box office fraud is a completely different transfer\",\n \"where the democrats rule it looks that way and it's getting worse\",\n \"i'm not saying they shouldn't be paid on time i'm saying that as long as these people are getting paid it's wrong they're doing black things with the benefits without them they'd have two choices they'd either steal or they'd start working properly that's up to them that's what the police are there for to motivate them\"]"
     },
     "execution_count": 4,
     "metadata": {},
     "output_type": "execute_result"
    }
   ],
   "source": [
    "# Make everything lowercase and remove unnecessary whitespace\n",
    "texts_clean = [t.lower().strip() for t in texts]\n",
    "\n",
    "# Remove non-standard characters \n",
    "texts_clean = [re.sub(r'[^\\w\\s\\']', '', t) for t in texts_clean]\n",
    "\n",
    "texts_clean[:5]"
   ],
   "metadata": {
    "collapsed": false,
    "ExecuteTime": {
     "end_time": "2023-08-10T09:31:36.165228394Z",
     "start_time": "2023-08-10T09:31:36.087367095Z"
    }
   },
   "id": "b62c521181241013"
  },
  {
   "cell_type": "markdown",
   "source": [
    "## Function definitions\n",
    "\n",
    "We define several functions. We will use 2 metrics to compare LDA and bertopic: NPMI (which measures topic coherence) and percentage of unique words in each topic (which measures topic diversity).\n",
    " \n",
    "We start with a function calcualting average normalized pairwise mutual information (NPMI)."
   ],
   "metadata": {
    "collapsed": false
   },
   "id": "d4317c6a8d967166"
  },
  {
   "cell_type": "code",
   "execution_count": 5,
   "outputs": [],
   "source": [
    "def npmi(words, input_texts):\n",
    "    word_probas = {}\n",
    "\n",
    "    for word in words:\n",
    "        cnt = 0\n",
    "        for t in input_texts:\n",
    "            if word in t:\n",
    "                cnt += 1\n",
    "        word_probas[word] = cnt / len(input_texts)\n",
    "\n",
    "    npmis = []\n",
    "\n",
    "    for word_pair in combinations(words, 2):\n",
    "        cnt = 0\n",
    "        for t in input_texts:\n",
    "            if word_pair[0] in t and word_pair[1] in t:\n",
    "                cnt += 1\n",
    "        proba = cnt / len(input_texts)\n",
    "        if proba == 0:\n",
    "            npmi_record = -1\n",
    "        else:\n",
    "            pmi = np.log2(proba / (word_probas[word_pair[0]] * word_probas[word_pair[1]]))\n",
    "            h = - np.log2(proba)\n",
    "            npmi_record = pmi / h\n",
    "        npmis.append(npmi_record)\n",
    "    return np.mean(npmis)\n"
   ],
   "metadata": {
    "collapsed": false,
    "ExecuteTime": {
     "end_time": "2023-08-10T09:31:57.406418387Z",
     "start_time": "2023-08-10T09:31:57.365376982Z"
    }
   },
   "id": "704004fc0fceddcf"
  },
  {
   "cell_type": "markdown",
   "source": [
    "Then we define a function for calculating topic diversity"
   ],
   "metadata": {
    "collapsed": false
   },
   "id": "3d25433d5cdd2263"
  },
  {
   "cell_type": "code",
   "execution_count": 6,
   "outputs": [],
   "source": [
    "def get_diversities(input_topics):\n",
    "    topic_words_all = [w for t in input_topics for w in t]\n",
    "    word_counter = Counter(topic_words_all)\n",
    "\n",
    "    diversities = []\n",
    "    for topic in input_topics:\n",
    "        num_unique = 0\n",
    "        for word in topic[:5]:\n",
    "            if word_counter[word] == 1:\n",
    "                num_unique += 1\n",
    "        diversities.append(num_unique / 5)\n",
    "\n",
    "    return diversities"
   ],
   "metadata": {
    "collapsed": false,
    "ExecuteTime": {
     "end_time": "2023-08-10T09:31:59.836153503Z",
     "start_time": "2023-08-10T09:31:59.827093407Z"
    }
   },
   "id": "a1f61ba90323482a"
  },
  {
   "cell_type": "markdown",
   "source": [
    "We want to perform comparison for different numbers of topics. We write a simple function that\n",
    "compares LDA and BERTopic for a given number a of topics and returns required metric values."
   ],
   "metadata": {
    "collapsed": false
   },
   "id": "81126689a0fbe0f4"
  },
  {
   "cell_type": "code",
   "execution_count": 8,
   "outputs": [],
   "source": [
    "def compare_for_topic_number(num_topics, input_texts):\n",
    "    # BERTopic\n",
    "    model_bertopic = BERTopic(\n",
    "        language='english',\n",
    "        top_n_words=7,\n",
    "        n_gram_range=(1, 3),\n",
    "        min_topic_size=5,\n",
    "        nr_topics=num_topics,\n",
    "        calculate_probabilities=True,\n",
    "        verbose=False)\n",
    "\n",
    "    model_bertopic.fit(input_texts)\n",
    "    del model_bertopic.get_topics()[-1]\n",
    "    bertopic_topics = [[b[0] for b in a] for a in model_bertopic.get_topics().values()]\n",
    "    bertopic_npmis = [npmi(t[:5], input_texts) for t in bertopic_topics]\n",
    "    bertopic_npmi = np.mean(bertopic_npmis)\n",
    "    bertopic_diversities = get_diversities(bertopic_topics)\n",
    "    bertopic_diversity = np.mean(bertopic_diversities)\n",
    "\n",
    "    # LDA\n",
    "    lda_dict = Dictionary([t.split() for t in input_texts])\n",
    "    corpus = [lda_dict.doc2bow(d) for d in [t.split() for t in input_texts]]\n",
    "    model_lda = LdaModel(corpus, num_topics=num_topics, id2word=lda_dict)\n",
    "\n",
    "    lda_topics = []\n",
    "    for i in range(num_topics):\n",
    "        words = [lda_dict[t[0]] for t in model_lda.get_topic_terms(i, 5)]\n",
    "        lda_topics.append(words)\n",
    "    lda_npmis = [npmi(t[:5], input_texts) for t in lda_topics]\n",
    "    lda_npmi = np.mean(lda_npmis)\n",
    "    lda_diversities = get_diversities(lda_topics)\n",
    "    lda_diversity = np.mean(lda_diversities)\n",
    "\n",
    "    return bertopic_npmi, lda_npmi, bertopic_diversity, lda_diversity"
   ],
   "metadata": {
    "collapsed": false,
    "ExecuteTime": {
     "end_time": "2023-08-10T09:38:23.355492072Z",
     "start_time": "2023-08-10T09:38:23.314442782Z"
    }
   },
   "id": "f166d5de303fcfa8"
  },
  {
   "cell_type": "markdown",
   "source": [
    "## Comparison\n",
    "\n",
    "We now calculate NPMI and topic diversity for serveral different numbers of topics to extract:"
   ],
   "metadata": {
    "collapsed": false
   },
   "id": "ff4ed78f391720db"
  },
  {
   "cell_type": "code",
   "execution_count": 11,
   "outputs": [
    {
     "name": "stdout",
     "output_type": "stream",
     "text": [
      "Comparing for topic number 5\n",
      "Bertopic NPMI: 0.05922802080559017\n",
      "LDA NPMI: 0.04550852014087455\n",
      "Bertopic diversity: 0.8500000000000001\n",
      "LDA diversity: 0.24\n",
      "Comparing for topic number 8\n",
      "Bertopic NPMI: 0.27972806537113887\n",
      "LDA NPMI: 0.1077717207697074\n",
      "Bertopic diversity: 0.7714285714285715\n",
      "LDA diversity: 0.25\n",
      "Comparing for topic number 11\n",
      "Bertopic NPMI: 0.18686112193441407\n",
      "LDA NPMI: 0.010306161959197481\n",
      "Bertopic diversity: 0.36\n",
      "LDA diversity: 0.3818181818181818\n",
      "Comparing for topic number 14\n",
      "Bertopic NPMI: 0.16152411319255594\n",
      "LDA NPMI: 0.06500355034605916\n",
      "Bertopic diversity: 0.2769230769230769\n",
      "LDA diversity: 0.2571428571428571\n",
      "Comparing for topic number 17\n",
      "Bertopic NPMI: 0.17814456232500403\n",
      "LDA NPMI: 0.0763647092969286\n",
      "Bertopic diversity: 0.3625\n",
      "LDA diversity: 0.19999999999999998\n",
      "Comparing for topic number 20\n",
      "Bertopic NPMI: 0.18845549850479318\n",
      "LDA NPMI: -0.028152347395976402\n",
      "Bertopic diversity: 0.4421052631578948\n",
      "LDA diversity: 0.29\n",
      "Comparing for topic number 23\n",
      "Bertopic NPMI: 0.1946932715564883\n",
      "LDA NPMI: 0.018264789936338288\n",
      "Bertopic diversity: 0.3727272727272727\n",
      "LDA diversity: 0.25217391304347825\n",
      "Comparing for topic number 26\n",
      "Bertopic NPMI: 0.09477760391542604\n",
      "LDA NPMI: 0.06473429321245051\n",
      "Bertopic diversity: 0.408\n",
      "LDA diversity: 0.2\n",
      "Comparing for topic number 29\n",
      "Bertopic NPMI: 0.09585826612995843\n",
      "LDA NPMI: -0.03507825754667577\n",
      "Bertopic diversity: 0.3428571428571429\n",
      "LDA diversity: 0.24827586206896549\n",
      "Comparing for topic number 32\n",
      "Bertopic NPMI: 0.18604395117925962\n",
      "LDA NPMI: -0.03287676557056431\n",
      "Bertopic diversity: 0.4193548387096775\n",
      "LDA diversity: 0.35625\n",
      "Comparing for topic number 35\n",
      "Bertopic NPMI: 0.07255276816891096\n",
      "LDA NPMI: 0.04900799750959281\n",
      "Bertopic diversity: 0.4882352941176471\n",
      "LDA diversity: 0.2457142857142857\n",
      "Comparing for topic number 38\n",
      "Bertopic NPMI: 0.04778005106923634\n",
      "LDA NPMI: 0.03425471766524256\n",
      "Bertopic diversity: 0.4810810810810811\n",
      "LDA diversity: 0.26842105263157895\n",
      "Comparing for topic number 41\n",
      "Bertopic NPMI: 0.07863658634041823\n",
      "LDA NPMI: -0.02216813106217401\n",
      "Bertopic diversity: 0.45500000000000007\n",
      "LDA diversity: 0.351219512195122\n",
      "Comparing for topic number 44\n",
      "Bertopic NPMI: 0.13277422830619529\n",
      "LDA NPMI: 0.0313886941479548\n",
      "Bertopic diversity: 0.49302325581395356\n",
      "LDA diversity: 0.23636363636363633\n",
      "Comparing for topic number 47\n",
      "Bertopic NPMI: 0.06656561181334668\n",
      "LDA NPMI: 0.004592040834847948\n",
      "Bertopic diversity: 0.5739130434782609\n",
      "LDA diversity: 0.3191489361702128\n"
     ]
    }
   ],
   "source": [
    "plot_data = []\n",
    "\n",
    "for tn in range(5, 50, 3):\n",
    "    print(f'Comparing for topic number {tn}')\n",
    "    bertopic_npmi, lda_npmi, bertopic_diversity, lda_diversity = compare_for_topic_number(tn, texts_clean)\n",
    "    print(f'Bertopic NPMI: {bertopic_npmi}')\n",
    "    print(f'LDA NPMI: {lda_npmi}')\n",
    "    print(f'Bertopic diversity: {bertopic_diversity}')\n",
    "    print(f'LDA diversity: {lda_diversity}')\n",
    "    plot_data.append([tn, bertopic_npmi, lda_npmi, bertopic_diversity, lda_diversity])\n",
    "\n",
    "plot_data = np.array(plot_data)"
   ],
   "metadata": {
    "collapsed": false,
    "ExecuteTime": {
     "end_time": "2023-08-10T10:20:39.085337334Z",
     "start_time": "2023-08-10T09:42:32.117390624Z"
    }
   },
   "id": "fe71316dce231525"
  },
  {
   "cell_type": "markdown",
   "source": [
    "We plot the results"
   ],
   "metadata": {
    "collapsed": false
   },
   "id": "c4e3bdd6eee868a4"
  },
  {
   "cell_type": "code",
   "execution_count": 14,
   "outputs": [
    {
     "data": {
      "text/plain": "<Figure size 1000x500 with 2 Axes>",
      "image/png": "[encoded data removed]"
     },
     "metadata": {},
     "output_type": "display_data"
    }
   ],
   "source": [
    "fig, axes = plt.subplots(1, 2, figsize=(10, 5))\n",
    "axes[0].plot(plot_data[:, 0], plot_data[:, 1], label='BERTopic')\n",
    "axes[0].plot(plot_data[:, 0], plot_data[:, 2], label='LDA')\n",
    "axes[0].set_xlabel('No. of topics')\n",
    "axes[0].set_ylabel('NPMI')\n",
    "axes[0].set_title('NPMI')\n",
    "axes[0].legend()\n",
    "\n",
    "axes[1].plot(plot_data[:, 0], plot_data[:, 3], label='BERTopic')\n",
    "axes[1].plot(plot_data[:, 0], plot_data[:, 4], label='LDA')\n",
    "axes[1].set_xlabel('No. of topics')\n",
    "axes[1].set_ylabel('Diversity (avg. ratio of unique words)')\n",
    "axes[1].set_title('Diversity')\n",
    "axes[1].legend()\n",
    "\n",
    "plt.show()"
   ],
   "metadata": {
    "collapsed": false,
    "ExecuteTime": {
     "end_time": "2023-08-10T10:38:32.804913954Z",
     "start_time": "2023-08-10T10:38:32.522248098Z"
    }
   },
   "id": "97c7ae9de0e42897"
  },
  {
   "cell_type": "markdown",
   "source": [
    "We can see that for all tested numbers of topics BERTopic offers both higher diversity and NPMI (with only a single exception)."
   ],
   "metadata": {
    "collapsed": false
   },
   "id": "16be609d4d3ef0b8"
  }
 ],
 "metadata": {
  "kernelspec": {
   "display_name": "Python 3",
   "language": "python",
   "name": "python3"
  },
  "language_info": {
   "codemirror_mode": {
    "name": "ipython",
    "version": 2
   },
   "file_extension": ".py",
   "mimetype": "text/x-python",
   "name": "python",
   "nbconvert_exporter": "python",
   "pygments_lexer": "ipython2",
   "version": "2.7.6"
  }
 },
 "nbformat": 4,
 "nbformat_minor": 5
}
