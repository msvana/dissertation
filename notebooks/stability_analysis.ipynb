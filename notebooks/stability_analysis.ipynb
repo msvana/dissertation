{
 "cells": [
  {
   "cell_type": "code",
   "execution_count": 1,
   "id": "07cad0f0-94c6-4bd7-abc8-354cfaaae5b5",
   "metadata": {},
   "outputs": [],
   "source": [
    "import pandas as pd\n",
    "import numpy as np\n",
    "import ranky as rk\n",
    "import itertools"
   ]
  },
  {
   "cell_type": "code",
   "execution_count": 2,
   "id": "35f6ad0d-cf60-4753-b5ae-deb7ff28a915",
   "metadata": {},
   "outputs": [],
   "source": [
    "df = pd.read_csv('../datasets/topics_ostrava_processed.csv').loc[:10]"
   ]
  },
  {
   "cell_type": "code",
   "execution_count": 3,
   "id": "77fc9446-6c85-4d93-8837-c834b7cc5467",
   "metadata": {},
   "outputs": [
    {
     "data": {
      "text/plain": [
       "(-0.28280293249041377, -0.12963635124205963)"
      ]
     },
     "execution_count": 3,
     "metadata": {},
     "output_type": "execute_result"
    }
   ],
   "source": [
    "def sample_config(b_min, b_max):\n",
    "    b = np.random.uniform(b_min, b_max)\n",
    "    a = np.random.uniform(-1, b)\n",
    "    return a, b\n",
    "\n",
    "sample_config(-0.5, 0.5)"
   ]
  },
  {
   "cell_type": "code",
   "execution_count": 4,
   "id": "46031d3b-82a2-411b-97bc-df050aae59da",
   "metadata": {},
   "outputs": [
    {
     "data": {
      "text/plain": [
       "0.5"
      ]
     },
     "execution_count": 4,
     "metadata": {},
     "output_type": "execute_result"
    }
   ],
   "source": [
    "def get_con_pos(pos_set, topic_set):\n",
    "    a, b = pos_set\n",
    "    if topic_set[1] >= b:\n",
    "        possibility = 1\n",
    "    elif topic_set[2] <= a:\n",
    "        possibility = 0\n",
    "    else:\n",
    "        x = (a * topic_set[1] - topic_set[2] * b) / \\\n",
    "            (a - b + topic_set[1] - topic_set[2])\n",
    "        possibility = (x - a) / (b - a)\n",
    "    return possibility\n",
    "\n",
    "get_con_pos([0, 1], [-1, 0, 1])"
   ]
  },
  {
   "cell_type": "code",
   "execution_count": 20,
   "id": "4503c1c7-1b94-4300-8eb5-f90736f18b78",
   "metadata": {},
   "outputs": [
    {
     "data": {
      "text/plain": [
       "(2.627752960466388, 1.7780458880185304, 0.2578049189287666, 0.5002658159411845)"
      ]
     },
     "execution_count": 20,
     "metadata": {},
     "output_type": "execute_result"
    }
   ],
   "source": [
    "ranks = []\n",
    "\n",
    "for i in range(500):\n",
    "    pos_set = sample_config(-1, 1)\n",
    "    pos_levels = []\n",
    "    \n",
    "    for _, row in df.iterrows():\n",
    "        topic_set = row['support_left'], row['sent_mean'], row['support_right']\n",
    "        pos_levels.append(get_con_pos(pos_set, topic_set))\n",
    "\n",
    "    ranks.append(np.argsort(pos_levels))\n",
    "\n",
    "diffs = []\n",
    "corrs = []\n",
    "\n",
    "for a, b in itertools.combinations(ranks, 2):\n",
    "    diff = np.abs(np.subtract(a, b)).mean()\n",
    "    corrs.append(rk.corr(a, b, method=\"kendalltau\"))\n",
    "    diffs.append(diff)\n",
    "\n",
    "np.mean(diffs), np.std(diffs), np.mean(corrs), np.std(corrs)"
   ]
  },
  {
   "cell_type": "code",
   "execution_count": null,
   "id": "e726c3e5-fe34-4c44-8af0-374d503c9723",
   "metadata": {},
   "outputs": [],
   "source": []
  }
 ],
 "metadata": {
  "kernelspec": {
   "display_name": "Python 3 (ipykernel)",
   "language": "python",
   "name": "python3"
  },
  "language_info": {
   "codemirror_mode": {
    "name": "ipython",
    "version": 3
   },
   "file_extension": ".py",
   "mimetype": "text/x-python",
   "name": "python",
   "nbconvert_exporter": "python",
   "pygments_lexer": "ipython3",
   "version": "3.11.8"
  }
 },
 "nbformat": 4,
 "nbformat_minor": 5
}
