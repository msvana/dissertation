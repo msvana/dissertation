{
 "cells": [
  {
   "cell_type": "code",
   "execution_count": 1,
   "id": "f4f19cab-7819-43d2-a6dc-1eb8a85f238f",
   "metadata": {},
   "outputs": [],
   "source": [
    "import pandas as pd\n",
    "import textblob as tb\n",
    "import matplotlib.pyplot as plt"
   ]
  },
  {
   "cell_type": "code",
   "execution_count": 2,
   "id": "374e6fbf-55a2-48de-bfdd-d9fd5696c43e",
   "metadata": {},
   "outputs": [
    {
     "data": {
      "text/html": [
       "<div>\n",
       "<style scoped>\n",
       "    .dataframe tbody tr th:only-of-type {\n",
       "        vertical-align: middle;\n",
       "    }\n",
       "\n",
       "    .dataframe tbody tr th {\n",
       "        vertical-align: top;\n",
       "    }\n",
       "\n",
       "    .dataframe thead th {\n",
       "        text-align: right;\n",
       "    }\n",
       "</style>\n",
       "<table border=\"1\" class=\"dataframe\">\n",
       "  <thead>\n",
       "    <tr style=\"text-align: right;\">\n",
       "      <th></th>\n",
       "      <th>tweet_text</th>\n",
       "      <th>sentiment</th>\n",
       "      <th>sentiment_confidence_summary</th>\n",
       "    </tr>\n",
       "  </thead>\n",
       "  <tbody>\n",
       "    <tr>\n",
       "      <th>0</th>\n",
       "      <td>:Hello Japan is a nuclear power plant crisis. ...</td>\n",
       "      <td>Negative</td>\n",
       "      <td>\"Neutral / author is just sharing information\"...</td>\n",
       "    </tr>\n",
       "    <tr>\n",
       "      <th>1</th>\n",
       "      <td>. Renewable Energy Consumption Tops Nuclear fo...</td>\n",
       "      <td>Neutral / author is just sharing information</td>\n",
       "      <td>\"Neutral / author is just sharing information\"...</td>\n",
       "    </tr>\n",
       "    <tr>\n",
       "      <th>2</th>\n",
       "      <td>. Will liberals now seek to eliminate dangerou...</td>\n",
       "      <td>Neutral / author is just sharing information</td>\n",
       "      <td>\"Neutral / author is just sharing information\"...</td>\n",
       "    </tr>\n",
       "    <tr>\n",
       "      <th>3</th>\n",
       "      <td>(Aug 22,2011)Plant Status of Fukushima Daiichi...</td>\n",
       "      <td>Neutral / author is just sharing information</td>\n",
       "      <td>\"Neutral / author is just sharing information\"...</td>\n",
       "    </tr>\n",
       "    <tr>\n",
       "      <th>4</th>\n",
       "      <td>[ebook] Nuclear Energy and the Environment: Ox...</td>\n",
       "      <td>Neutral / author is just sharing information</td>\n",
       "      <td>\"Neutral / author is just sharing information\"...</td>\n",
       "    </tr>\n",
       "  </tbody>\n",
       "</table>\n",
       "</div>"
      ],
      "text/plain": [
       "                                          tweet_text  \\\n",
       "0  :Hello Japan is a nuclear power plant crisis. ...   \n",
       "1  . Renewable Energy Consumption Tops Nuclear fo...   \n",
       "2  . Will liberals now seek to eliminate dangerou...   \n",
       "3  (Aug 22,2011)Plant Status of Fukushima Daiichi...   \n",
       "4  [ebook] Nuclear Energy and the Environment: Ox...   \n",
       "\n",
       "                                      sentiment  \\\n",
       "0                                      Negative   \n",
       "1  Neutral / author is just sharing information   \n",
       "2  Neutral / author is just sharing information   \n",
       "3  Neutral / author is just sharing information   \n",
       "4  Neutral / author is just sharing information   \n",
       "\n",
       "                        sentiment_confidence_summary  \n",
       "0  \"Neutral / author is just sharing information\"...  \n",
       "1  \"Neutral / author is just sharing information\"...  \n",
       "2  \"Neutral / author is just sharing information\"...  \n",
       "3  \"Neutral / author is just sharing information\"...  \n",
       "4  \"Neutral / author is just sharing information\"...  "
      ]
     },
     "execution_count": 2,
     "metadata": {},
     "output_type": "execute_result"
    }
   ],
   "source": [
    "df = pd.read_csv('../datasets/nuclear_energy.csv', encoding_errors='ignore')\n",
    "df.head()"
   ]
  },
  {
   "cell_type": "code",
   "execution_count": 3,
   "id": "7e60e6d0-3542-4cb8-89f9-b1c50c2808e9",
   "metadata": {},
   "outputs": [],
   "source": [
    "def get_sentiment(sent_class, summary):\n",
    "    summary_parts = summary.split('\\n')\n",
    "    for part in summary_parts:\n",
    "        if sent_class in part.lower():\n",
    "            sent_amount = float(part.split(':')[1])\n",
    "            return sent_amount\n",
    "    return None"
   ]
  },
  {
   "cell_type": "code",
   "execution_count": 4,
   "id": "68708c4f-f838-47a4-a13b-533f36c98c14",
   "metadata": {},
   "outputs": [
    {
     "data": {
      "text/html": [
       "<div>\n",
       "<style scoped>\n",
       "    .dataframe tbody tr th:only-of-type {\n",
       "        vertical-align: middle;\n",
       "    }\n",
       "\n",
       "    .dataframe tbody tr th {\n",
       "        vertical-align: top;\n",
       "    }\n",
       "\n",
       "    .dataframe thead th {\n",
       "        text-align: right;\n",
       "    }\n",
       "</style>\n",
       "<table border=\"1\" class=\"dataframe\">\n",
       "  <thead>\n",
       "    <tr style=\"text-align: right;\">\n",
       "      <th></th>\n",
       "      <th>tweet_text</th>\n",
       "      <th>sentiment</th>\n",
       "      <th>sentiment_confidence_summary</th>\n",
       "      <th>pos</th>\n",
       "      <th>neg</th>\n",
       "    </tr>\n",
       "  </thead>\n",
       "  <tbody>\n",
       "    <tr>\n",
       "      <th>0</th>\n",
       "      <td>:Hello Japan is a nuclear power plant crisis. ...</td>\n",
       "      <td>Negative</td>\n",
       "      <td>\"Neutral / author is just sharing information\"...</td>\n",
       "      <td>NaN</td>\n",
       "      <td>0.800</td>\n",
       "    </tr>\n",
       "    <tr>\n",
       "      <th>1</th>\n",
       "      <td>. Renewable Energy Consumption Tops Nuclear fo...</td>\n",
       "      <td>Neutral / author is just sharing information</td>\n",
       "      <td>\"Neutral / author is just sharing information\"...</td>\n",
       "      <td>NaN</td>\n",
       "      <td>NaN</td>\n",
       "    </tr>\n",
       "    <tr>\n",
       "      <th>2</th>\n",
       "      <td>. Will liberals now seek to eliminate dangerou...</td>\n",
       "      <td>Neutral / author is just sharing information</td>\n",
       "      <td>\"Neutral / author is just sharing information\"...</td>\n",
       "      <td>NaN</td>\n",
       "      <td>0.333</td>\n",
       "    </tr>\n",
       "    <tr>\n",
       "      <th>3</th>\n",
       "      <td>(Aug 22,2011)Plant Status of Fukushima Daiichi...</td>\n",
       "      <td>Neutral / author is just sharing information</td>\n",
       "      <td>\"Neutral / author is just sharing information\"...</td>\n",
       "      <td>NaN</td>\n",
       "      <td>NaN</td>\n",
       "    </tr>\n",
       "    <tr>\n",
       "      <th>4</th>\n",
       "      <td>[ebook] Nuclear Energy and the Environment: Ox...</td>\n",
       "      <td>Neutral / author is just sharing information</td>\n",
       "      <td>\"Neutral / author is just sharing information\"...</td>\n",
       "      <td>NaN</td>\n",
       "      <td>NaN</td>\n",
       "    </tr>\n",
       "  </tbody>\n",
       "</table>\n",
       "</div>"
      ],
      "text/plain": [
       "                                          tweet_text  \\\n",
       "0  :Hello Japan is a nuclear power plant crisis. ...   \n",
       "1  . Renewable Energy Consumption Tops Nuclear fo...   \n",
       "2  . Will liberals now seek to eliminate dangerou...   \n",
       "3  (Aug 22,2011)Plant Status of Fukushima Daiichi...   \n",
       "4  [ebook] Nuclear Energy and the Environment: Ox...   \n",
       "\n",
       "                                      sentiment  \\\n",
       "0                                      Negative   \n",
       "1  Neutral / author is just sharing information   \n",
       "2  Neutral / author is just sharing information   \n",
       "3  Neutral / author is just sharing information   \n",
       "4  Neutral / author is just sharing information   \n",
       "\n",
       "                        sentiment_confidence_summary  pos    neg  \n",
       "0  \"Neutral / author is just sharing information\"...  NaN  0.800  \n",
       "1  \"Neutral / author is just sharing information\"...  NaN    NaN  \n",
       "2  \"Neutral / author is just sharing information\"...  NaN  0.333  \n",
       "3  \"Neutral / author is just sharing information\"...  NaN    NaN  \n",
       "4  \"Neutral / author is just sharing information\"...  NaN    NaN  "
      ]
     },
     "execution_count": 4,
     "metadata": {},
     "output_type": "execute_result"
    }
   ],
   "source": [
    "df['pos'] = df['sentiment_confidence_summary'].apply(lambda x: get_sentiment('positive', x))\n",
    "df['neg'] = df['sentiment_confidence_summary'].apply(lambda x: get_sentiment('negative', x))\n",
    "df.head()"
   ]
  },
  {
   "cell_type": "code",
   "execution_count": 5,
   "id": "a5abf682-176a-4a4d-8a3b-7798e0599f85",
   "metadata": {},
   "outputs": [
    {
     "data": {
      "text/html": [
       "<div>\n",
       "<style scoped>\n",
       "    .dataframe tbody tr th:only-of-type {\n",
       "        vertical-align: middle;\n",
       "    }\n",
       "\n",
       "    .dataframe tbody tr th {\n",
       "        vertical-align: top;\n",
       "    }\n",
       "\n",
       "    .dataframe thead th {\n",
       "        text-align: right;\n",
       "    }\n",
       "</style>\n",
       "<table border=\"1\" class=\"dataframe\">\n",
       "  <thead>\n",
       "    <tr style=\"text-align: right;\">\n",
       "      <th></th>\n",
       "      <th>tweet_text</th>\n",
       "      <th>sentiment</th>\n",
       "      <th>sentiment_confidence_summary</th>\n",
       "      <th>pos</th>\n",
       "      <th>neg</th>\n",
       "    </tr>\n",
       "  </thead>\n",
       "  <tbody>\n",
       "    <tr>\n",
       "      <th>0</th>\n",
       "      <td>:Hello Japan is a nuclear power plant crisis. ...</td>\n",
       "      <td>Negative</td>\n",
       "      <td>\"Neutral / author is just sharing information\"...</td>\n",
       "      <td>0.0</td>\n",
       "      <td>0.800</td>\n",
       "    </tr>\n",
       "    <tr>\n",
       "      <th>2</th>\n",
       "      <td>. Will liberals now seek to eliminate dangerou...</td>\n",
       "      <td>Neutral / author is just sharing information</td>\n",
       "      <td>\"Neutral / author is just sharing information\"...</td>\n",
       "      <td>0.0</td>\n",
       "      <td>0.333</td>\n",
       "    </tr>\n",
       "    <tr>\n",
       "      <th>6</th>\n",
       "      <td>[news] Nuclear Power Plant: Radioactive Tritiu...</td>\n",
       "      <td>Neutral / author is just sharing information</td>\n",
       "      <td>\"Neutral / author is just sharing information\"...</td>\n",
       "      <td>0.0</td>\n",
       "      <td>0.143</td>\n",
       "    </tr>\n",
       "    <tr>\n",
       "      <th>9</th>\n",
       "      <td>{link} &amp;quot;The right thing to do&amp;quot; I'm f...</td>\n",
       "      <td>Positive</td>\n",
       "      <td>\"Neutral / author is just sharing information\"...</td>\n",
       "      <td>0.6</td>\n",
       "      <td>0.200</td>\n",
       "    </tr>\n",
       "    <tr>\n",
       "      <th>11</th>\n",
       "      <td>{link} 74 percent favor gradual reduction of n...</td>\n",
       "      <td>Neutral / author is just sharing information</td>\n",
       "      <td>\"Neutral / author is just sharing information\"...</td>\n",
       "      <td>0.0</td>\n",
       "      <td>0.200</td>\n",
       "    </tr>\n",
       "  </tbody>\n",
       "</table>\n",
       "</div>"
      ],
      "text/plain": [
       "                                           tweet_text  \\\n",
       "0   :Hello Japan is a nuclear power plant crisis. ...   \n",
       "2   . Will liberals now seek to eliminate dangerou...   \n",
       "6   [news] Nuclear Power Plant: Radioactive Tritiu...   \n",
       "9   {link} &quot;The right thing to do&quot; I'm f...   \n",
       "11  {link} 74 percent favor gradual reduction of n...   \n",
       "\n",
       "                                       sentiment  \\\n",
       "0                                       Negative   \n",
       "2   Neutral / author is just sharing information   \n",
       "6   Neutral / author is just sharing information   \n",
       "9                                       Positive   \n",
       "11  Neutral / author is just sharing information   \n",
       "\n",
       "                         sentiment_confidence_summary  pos    neg  \n",
       "0   \"Neutral / author is just sharing information\"...  0.0  0.800  \n",
       "2   \"Neutral / author is just sharing information\"...  0.0  0.333  \n",
       "6   \"Neutral / author is just sharing information\"...  0.0  0.143  \n",
       "9   \"Neutral / author is just sharing information\"...  0.6  0.200  \n",
       "11  \"Neutral / author is just sharing information\"...  0.0  0.200  "
      ]
     },
     "execution_count": 5,
     "metadata": {},
     "output_type": "execute_result"
    }
   ],
   "source": [
    "df_filtered = df.dropna(how='all', subset=['pos', 'neg']).fillna(0)\n",
    "df_filtered.head()"
   ]
  },
  {
   "cell_type": "code",
   "execution_count": 6,
   "id": "bac46cec-cdc9-4ddf-a138-9f364e4b7f23",
   "metadata": {},
   "outputs": [
    {
     "data": {
      "text/html": [
       "<div>\n",
       "<style scoped>\n",
       "    .dataframe tbody tr th:only-of-type {\n",
       "        vertical-align: middle;\n",
       "    }\n",
       "\n",
       "    .dataframe tbody tr th {\n",
       "        vertical-align: top;\n",
       "    }\n",
       "\n",
       "    .dataframe thead th {\n",
       "        text-align: right;\n",
       "    }\n",
       "</style>\n",
       "<table border=\"1\" class=\"dataframe\">\n",
       "  <thead>\n",
       "    <tr style=\"text-align: right;\">\n",
       "      <th></th>\n",
       "      <th>tweet_text</th>\n",
       "      <th>sentiment</th>\n",
       "      <th>sentiment_confidence_summary</th>\n",
       "      <th>pos</th>\n",
       "      <th>neg</th>\n",
       "      <th>polarity</th>\n",
       "    </tr>\n",
       "  </thead>\n",
       "  <tbody>\n",
       "    <tr>\n",
       "      <th>0</th>\n",
       "      <td>:Hello Japan is a nuclear power plant crisis. ...</td>\n",
       "      <td>Negative</td>\n",
       "      <td>\"Neutral / author is just sharing information\"...</td>\n",
       "      <td>0.0</td>\n",
       "      <td>0.800</td>\n",
       "      <td>0.000000</td>\n",
       "    </tr>\n",
       "    <tr>\n",
       "      <th>2</th>\n",
       "      <td>. Will liberals now seek to eliminate dangerou...</td>\n",
       "      <td>Neutral / author is just sharing information</td>\n",
       "      <td>\"Neutral / author is just sharing information\"...</td>\n",
       "      <td>0.0</td>\n",
       "      <td>0.333</td>\n",
       "      <td>-0.400000</td>\n",
       "    </tr>\n",
       "    <tr>\n",
       "      <th>6</th>\n",
       "      <td>[news] Nuclear Power Plant: Radioactive Tritiu...</td>\n",
       "      <td>Neutral / author is just sharing information</td>\n",
       "      <td>\"Neutral / author is just sharing information\"...</td>\n",
       "      <td>0.0</td>\n",
       "      <td>0.143</td>\n",
       "      <td>0.000000</td>\n",
       "    </tr>\n",
       "    <tr>\n",
       "      <th>9</th>\n",
       "      <td>{link} &amp;quot;The right thing to do&amp;quot; I'm f...</td>\n",
       "      <td>Positive</td>\n",
       "      <td>\"Neutral / author is just sharing information\"...</td>\n",
       "      <td>0.6</td>\n",
       "      <td>0.200</td>\n",
       "      <td>0.142857</td>\n",
       "    </tr>\n",
       "    <tr>\n",
       "      <th>11</th>\n",
       "      <td>{link} 74 percent favor gradual reduction of n...</td>\n",
       "      <td>Neutral / author is just sharing information</td>\n",
       "      <td>\"Neutral / author is just sharing information\"...</td>\n",
       "      <td>0.0</td>\n",
       "      <td>0.200</td>\n",
       "      <td>0.000000</td>\n",
       "    </tr>\n",
       "  </tbody>\n",
       "</table>\n",
       "</div>"
      ],
      "text/plain": [
       "                                           tweet_text  \\\n",
       "0   :Hello Japan is a nuclear power plant crisis. ...   \n",
       "2   . Will liberals now seek to eliminate dangerou...   \n",
       "6   [news] Nuclear Power Plant: Radioactive Tritiu...   \n",
       "9   {link} &quot;The right thing to do&quot; I'm f...   \n",
       "11  {link} 74 percent favor gradual reduction of n...   \n",
       "\n",
       "                                       sentiment  \\\n",
       "0                                       Negative   \n",
       "2   Neutral / author is just sharing information   \n",
       "6   Neutral / author is just sharing information   \n",
       "9                                       Positive   \n",
       "11  Neutral / author is just sharing information   \n",
       "\n",
       "                         sentiment_confidence_summary  pos    neg  polarity  \n",
       "0   \"Neutral / author is just sharing information\"...  0.0  0.800  0.000000  \n",
       "2   \"Neutral / author is just sharing information\"...  0.0  0.333 -0.400000  \n",
       "6   \"Neutral / author is just sharing information\"...  0.0  0.143  0.000000  \n",
       "9   \"Neutral / author is just sharing information\"...  0.6  0.200  0.142857  \n",
       "11  \"Neutral / author is just sharing information\"...  0.0  0.200  0.000000  "
      ]
     },
     "execution_count": 6,
     "metadata": {},
     "output_type": "execute_result"
    }
   ],
   "source": [
    "df_filtered['polarity'] = [tb.TextBlob(t).sentiment.polarity for t in df_filtered['tweet_text']]\n",
    "df_filtered.head()"
   ]
  },
  {
   "cell_type": "code",
   "execution_count": 7,
   "id": "0decddca-9d3d-4491-bba0-d592bbebddc4",
   "metadata": {},
   "outputs": [],
   "source": [
    "def evaluate(fn, polarities, amounts):\n",
    "    a, b = fn\n",
    "\n",
    "    if b < a:\n",
    "        return 10000\n",
    "\n",
    "    sse = 0\n",
    "    for x, y in zip(polarities, amounts):\n",
    "        if x < a:\n",
    "            sse += y ** 2\n",
    "        elif x > b:\n",
    "            sse += (1 - y) ** 2\n",
    "        else:\n",
    "            expected = (x - a) / (b - a)\n",
    "            sse += (expected - y) ** 2\n",
    "\n",
    "    return sse / len(polarities)"
   ]
  },
  {
   "cell_type": "code",
   "execution_count": 8,
   "id": "7f828661-fdab-4498-b1a0-0575e83f57dc",
   "metadata": {},
   "outputs": [],
   "source": [
    "def find_best(polarities, amounts):\n",
    "    top_result = 100000  # Some very high initial average SSE\n",
    "    top_config = -1.0, -1.0  # Both `a` and `b` will be set to -1 at the start\n",
    "\n",
    "    #  `a` will assume values from -1 to 1 with step size 0.01\n",
    "    for a_base in range(-100, 100):\n",
    "        a = a_base / 100\n",
    "\n",
    "        # `b` will assume values from `a` to 1, but it won't go under 0\n",
    "        for b_base in range(max(a_base + 1, 0, 100)):\n",
    "            b = b_base / 100\n",
    "\n",
    "            result = evaluate((a, b), polarities, amounts)\n",
    "            if result < top_result:\n",
    "                top_result = result\n",
    "                top_config = a, b\n",
    "    \n",
    "    return top_result, top_config"
   ]
  },
  {
   "cell_type": "code",
   "execution_count": 9,
   "id": "1daaec77-e633-49a8-a64e-1ff7ca7c7ac5",
   "metadata": {},
   "outputs": [
    {
     "name": "stderr",
     "output_type": "stream",
     "text": [
      "/tmp/ipykernel_32053/2603155445.py:14: RuntimeWarning: invalid value encountered in scalar divide\n",
      "  expected = (x - a) / (b - a)\n"
     ]
    },
    {
     "name": "stdout",
     "output_type": "stream",
     "text": [
      "Positive sentiment: SSE = 0.0514; a = 0.33; b = 0.99\n",
      "Negative sentiment: SSE = 0.1064; a = 0.52; b = -0.99\n"
     ]
    }
   ],
   "source": [
    "sse_pos, fn_pos = find_best(df_filtered['polarity'].values, df_filtered['pos'].values)\n",
    "print(f'Positive sentiment: SSE = {sse_pos:.4f}; a = {fn_pos[0]}; b = {fn_pos[1]}')\n",
    "\n",
    "sse_neg, fn_neg = find_best(-1 * df_filtered['polarity'].values, df_filtered['neg'].values)\n",
    "print(f'Negative sentiment: SSE = {sse_neg:.4f}; a = {-1 * fn_neg[0]}; b = {-1 * fn_neg[1]}')"
   ]
  },
  {
   "cell_type": "code",
   "execution_count": 10,
   "id": "d9bfd798-7796-43e4-b1c9-c36cebabe628",
   "metadata": {},
   "outputs": [
    {
     "data": {
      "text/plain": [
       "<matplotlib.legend.Legend at 0x7c71ebe3be90>"
      ]
     },
     "execution_count": 10,
     "metadata": {},
     "output_type": "execute_result"
    },
    {
     "data": {
      "image/png": "[encoded data removed]",
      "text/plain": [
       "<Figure size 640x480 with 1 Axes>"
      ]
     },
     "metadata": {},
     "output_type": "display_data"
    }
   ],
   "source": [
    "plt.plot([-1, fn_pos[0], fn_pos[1], 1], [0, 0, 1, 1], color='green', label='Positive sentiment')\n",
    "plt.plot([-1, -1 * fn_neg[1], -1 * fn_neg[0], 1], [1, 1, 0, 0], color='red', label='Negative sentiment')\n",
    "plt.scatter(df_filtered['polarity'], df_filtered['pos'], color='green', alpha=0.3)\n",
    "plt.scatter(df_filtered['polarity'], df_filtered['neg'], color='red', alpha=0.3)\n",
    "plt.legend()\n"
   ]
  },
  {
   "cell_type": "code",
   "execution_count": 20,
   "id": "d6568b37-e9b6-4705-8f24-fdd2f9b1e108",
   "metadata": {},
   "outputs": [
    {
     "data": {
      "text/html": [
       "<div>\n",
       "<style scoped>\n",
       "    .dataframe tbody tr th:only-of-type {\n",
       "        vertical-align: middle;\n",
       "    }\n",
       "\n",
       "    .dataframe tbody tr th {\n",
       "        vertical-align: top;\n",
       "    }\n",
       "\n",
       "    .dataframe thead th {\n",
       "        text-align: right;\n",
       "    }\n",
       "</style>\n",
       "<table border=\"1\" class=\"dataframe\">\n",
       "  <thead>\n",
       "    <tr style=\"text-align: right;\">\n",
       "      <th></th>\n",
       "      <th>airline_sentiment</th>\n",
       "      <th>airline_sentiment_confidence</th>\n",
       "      <th>sentiment_strength</th>\n",
       "      <th>text</th>\n",
       "    </tr>\n",
       "  </thead>\n",
       "  <tbody>\n",
       "    <tr>\n",
       "      <th>0</th>\n",
       "      <td>negative</td>\n",
       "      <td>1.0000</td>\n",
       "      <td>3.0</td>\n",
       "      <td>@VirginAmerica it's really aggressive to blast...</td>\n",
       "    </tr>\n",
       "    <tr>\n",
       "      <th>1</th>\n",
       "      <td>negative</td>\n",
       "      <td>1.0000</td>\n",
       "      <td>3.0</td>\n",
       "      <td>@VirginAmerica and it's a really big bad thing...</td>\n",
       "    </tr>\n",
       "    <tr>\n",
       "      <th>2</th>\n",
       "      <td>negative</td>\n",
       "      <td>1.0000</td>\n",
       "      <td>3.0</td>\n",
       "      <td>@VirginAmerica seriously would pay $30 a fligh...</td>\n",
       "    </tr>\n",
       "    <tr>\n",
       "      <th>3</th>\n",
       "      <td>negative</td>\n",
       "      <td>0.6842</td>\n",
       "      <td>2.0</td>\n",
       "      <td>@VirginAmerica SFO-PDX schedule is still MIA.</td>\n",
       "    </tr>\n",
       "    <tr>\n",
       "      <th>4</th>\n",
       "      <td>negative</td>\n",
       "      <td>1.0000</td>\n",
       "      <td>3.0</td>\n",
       "      <td>@VirginAmerica  I flew from NYC to SFO last we...</td>\n",
       "    </tr>\n",
       "  </tbody>\n",
       "</table>\n",
       "</div>"
      ],
      "text/plain": [
       "  airline_sentiment  airline_sentiment_confidence  sentiment_strength  \\\n",
       "0          negative                        1.0000                 3.0   \n",
       "1          negative                        1.0000                 3.0   \n",
       "2          negative                        1.0000                 3.0   \n",
       "3          negative                        0.6842                 2.0   \n",
       "4          negative                        1.0000                 3.0   \n",
       "\n",
       "                                                text  \n",
       "0  @VirginAmerica it's really aggressive to blast...  \n",
       "1  @VirginAmerica and it's a really big bad thing...  \n",
       "2  @VirginAmerica seriously would pay $30 a fligh...  \n",
       "3      @VirginAmerica SFO-PDX schedule is still MIA.  \n",
       "4  @VirginAmerica  I flew from NYC to SFO last we...  "
      ]
     },
     "execution_count": 20,
     "metadata": {},
     "output_type": "execute_result"
    }
   ],
   "source": [
    "df_airlines = pd.read_csv('../datasets/airlines.csv', encoding_errors='ignore', delimiter=';')\n",
    "df_airlines = df_airlines[['airline_sentiment', 'airline_sentiment_confidence', 'Sla sentimentu', 'text']]\n",
    "df_airlines = df_airlines.rename(columns={'Sla sentimentu': 'sentiment_strength'})\n",
    "df_airlines.head()"
   ]
  },
  {
   "cell_type": "code",
   "execution_count": 23,
   "id": "1ed80079-5b61-44ee-ae5e-bc5b1243b6d4",
   "metadata": {},
   "outputs": [
    {
     "data": {
      "text/plain": [
       "3.0"
      ]
     },
     "execution_count": 23,
     "metadata": {},
     "output_type": "execute_result"
    }
   ],
   "source": [
    "strength_max = df_airlines['sentiment_strength'].max()\n",
    "strength_max"
   ]
  },
  {
   "cell_type": "code",
   "execution_count": 28,
   "id": "cce2c412-5a67-464d-b288-98798b729965",
   "metadata": {},
   "outputs": [
    {
     "data": {
      "text/html": [
       "<div>\n",
       "<style scoped>\n",
       "    .dataframe tbody tr th:only-of-type {\n",
       "        vertical-align: middle;\n",
       "    }\n",
       "\n",
       "    .dataframe tbody tr th {\n",
       "        vertical-align: top;\n",
       "    }\n",
       "\n",
       "    .dataframe thead th {\n",
       "        text-align: right;\n",
       "    }\n",
       "</style>\n",
       "<table border=\"1\" class=\"dataframe\">\n",
       "  <thead>\n",
       "    <tr style=\"text-align: right;\">\n",
       "      <th></th>\n",
       "      <th>airline_sentiment</th>\n",
       "      <th>airline_sentiment_confidence</th>\n",
       "      <th>sentiment_strength</th>\n",
       "      <th>text</th>\n",
       "      <th>sentiment_strength_normalized</th>\n",
       "      <th>polarity</th>\n",
       "    </tr>\n",
       "  </thead>\n",
       "  <tbody>\n",
       "    <tr>\n",
       "      <th>0</th>\n",
       "      <td>negative</td>\n",
       "      <td>1.0000</td>\n",
       "      <td>3.0</td>\n",
       "      <td>@VirginAmerica it's really aggressive to blast...</td>\n",
       "      <td>1.000000</td>\n",
       "      <td>0.200000</td>\n",
       "    </tr>\n",
       "    <tr>\n",
       "      <th>1</th>\n",
       "      <td>negative</td>\n",
       "      <td>1.0000</td>\n",
       "      <td>3.0</td>\n",
       "      <td>@VirginAmerica and it's a really big bad thing...</td>\n",
       "      <td>1.000000</td>\n",
       "      <td>-0.350000</td>\n",
       "    </tr>\n",
       "    <tr>\n",
       "      <th>2</th>\n",
       "      <td>negative</td>\n",
       "      <td>1.0000</td>\n",
       "      <td>3.0</td>\n",
       "      <td>@VirginAmerica seriously would pay $30 a fligh...</td>\n",
       "      <td>1.000000</td>\n",
       "      <td>-0.333333</td>\n",
       "    </tr>\n",
       "    <tr>\n",
       "      <th>3</th>\n",
       "      <td>negative</td>\n",
       "      <td>0.6842</td>\n",
       "      <td>2.0</td>\n",
       "      <td>@VirginAmerica SFO-PDX schedule is still MIA.</td>\n",
       "      <td>0.666667</td>\n",
       "      <td>0.000000</td>\n",
       "    </tr>\n",
       "    <tr>\n",
       "      <th>4</th>\n",
       "      <td>negative</td>\n",
       "      <td>1.0000</td>\n",
       "      <td>3.0</td>\n",
       "      <td>@VirginAmerica  I flew from NYC to SFO last we...</td>\n",
       "      <td>1.000000</td>\n",
       "      <td>0.047619</td>\n",
       "    </tr>\n",
       "  </tbody>\n",
       "</table>\n",
       "</div>"
      ],
      "text/plain": [
       "  airline_sentiment  airline_sentiment_confidence  sentiment_strength  \\\n",
       "0          negative                        1.0000                 3.0   \n",
       "1          negative                        1.0000                 3.0   \n",
       "2          negative                        1.0000                 3.0   \n",
       "3          negative                        0.6842                 2.0   \n",
       "4          negative                        1.0000                 3.0   \n",
       "\n",
       "                                                text  \\\n",
       "0  @VirginAmerica it's really aggressive to blast...   \n",
       "1  @VirginAmerica and it's a really big bad thing...   \n",
       "2  @VirginAmerica seriously would pay $30 a fligh...   \n",
       "3      @VirginAmerica SFO-PDX schedule is still MIA.   \n",
       "4  @VirginAmerica  I flew from NYC to SFO last we...   \n",
       "\n",
       "   sentiment_strength_normalized  polarity  \n",
       "0                       1.000000  0.200000  \n",
       "1                       1.000000 -0.350000  \n",
       "2                       1.000000 -0.333333  \n",
       "3                       0.666667  0.000000  \n",
       "4                       1.000000  0.047619  "
      ]
     },
     "execution_count": 28,
     "metadata": {},
     "output_type": "execute_result"
    }
   ],
   "source": [
    "df_airlines['sentiment_strength_normalized'] = df_airlines['sentiment_strength'].apply(lambda x: x / strength_max)\n",
    "df_airlines['polarity'] = [tb.TextBlob(t).sentiment.polarity if type(t) == str else None for t in df_airlines['text']]\n",
    "df_airlines = df_airlines.dropna()\n",
    "df_airlines.head()"
   ]
  },
  {
   "cell_type": "code",
   "execution_count": 32,
   "id": "8794f0db-5e50-4377-aae1-e3bef282e842",
   "metadata": {},
   "outputs": [
    {
     "name": "stderr",
     "output_type": "stream",
     "text": [
      "/tmp/ipykernel_32053/2603155445.py:14: RuntimeWarning: invalid value encountered in scalar divide\n",
      "  expected = (x - a) / (b - a)\n"
     ]
    },
    {
     "name": "stdout",
     "output_type": "stream",
     "text": [
      "Positive sentiment: SSE = 0.0383; a = -1.0; b = 0.33\n",
      "Negative sentiment: SSE = 0.0383; a = -1.0; b = 0.0\n"
     ]
    }
   ],
   "source": [
    "df_airlines_positive = df_airlines[df_airlines['airline_sentiment'] == 'positive']\n",
    "sse_pos_airlines, fn_pos_airlines = find_best(df_airlines_positive['polarity'].values, df_airlines_positive['airline_sentiment_confidence'].values)\n",
    "print(f'Positive sentiment: SSE = {sse_pos_airlines:.4f}; a = {fn_pos_airlines[0]}; b = {fn_pos_airlines[1]}')\n",
    "\n",
    "df_airlines_negative = df_airlines[df_airlines['airline_sentiment'] == 'negative']\n",
    "sse_neg_airlines, fn_neg_airlines = find_best(df_airlines_negative['polarity'].values * -1, df_airlines_negative['airline_sentiment_confidence'].values)\n",
    "print(f'Negative sentiment: SSE = {sse_pos_airlines:.4f}; a = {fn_neg_airlines[0]}; b = {fn_neg_airlines[1]}')"
   ]
  },
  {
   "cell_type": "code",
   "execution_count": 33,
   "id": "2b956d6f-545e-48e2-8097-e822e5ecc122",
   "metadata": {},
   "outputs": [
    {
     "data": {
      "text/plain": [
       "<matplotlib.legend.Legend at 0x7c71e5bb4e10>"
      ]
     },
     "execution_count": 33,
     "metadata": {},
     "output_type": "execute_result"
    },
    {
     "data": {
      "image/png": "[encoded data removed]",
      "text/plain": [
       "<Figure size 640x480 with 1 Axes>"
      ]
     },
     "metadata": {},
     "output_type": "display_data"
    }
   ],
   "source": [
    "plt.plot([-1, fn_pos_airlines[0], fn_pos_airlines[1], 1], [0, 0, 1, 1], color='green', label='Positive sentiment')\n",
    "plt.plot([-1, -1 * fn_neg_airlines[1], -1 * fn_neg_airlines[0], 1], [1, 1, 0, 0], color='red', label='Negative sentiment')\n",
    "plt.scatter(df_airlines_positive['polarity'], df_airlines_positive['sentiment_strength_normalized'], color='green', alpha=0.3)\n",
    "plt.scatter(df_airlines_negative['polarity'], df_airlines_negative['sentiment_strength_normalized'], color='red', alpha=0.3)\n",
    "plt.legend()\n"
   ]
  },
  {
   "cell_type": "code",
   "execution_count": 38,
   "id": "9cc03162-bfbb-49a9-8622-527107999e25",
   "metadata": {},
   "outputs": [
    {
     "data": {
      "text/html": [
       "<div>\n",
       "<style scoped>\n",
       "    .dataframe tbody tr th:only-of-type {\n",
       "        vertical-align: middle;\n",
       "    }\n",
       "\n",
       "    .dataframe tbody tr th {\n",
       "        vertical-align: top;\n",
       "    }\n",
       "\n",
       "    .dataframe thead th {\n",
       "        text-align: right;\n",
       "    }\n",
       "</style>\n",
       "<table border=\"1\" class=\"dataframe\">\n",
       "  <thead>\n",
       "    <tr style=\"text-align: right;\">\n",
       "      <th></th>\n",
       "      <th>sentiment</th>\n",
       "      <th>confidence</th>\n",
       "      <th>tweet_text</th>\n",
       "    </tr>\n",
       "  </thead>\n",
       "  <tbody>\n",
       "    <tr>\n",
       "      <th>0</th>\n",
       "      <td>Positive</td>\n",
       "      <td>0.8439</td>\n",
       "      <td>Grilling kabobs on the grill last night was am...</td>\n",
       "    </tr>\n",
       "    <tr>\n",
       "      <th>1</th>\n",
       "      <td>Negative</td>\n",
       "      <td>0.6963</td>\n",
       "      <td>The slowest day ever !! And the weather makes ...</td>\n",
       "    </tr>\n",
       "    <tr>\n",
       "      <th>2</th>\n",
       "      <td>Neutral / author is just sharing information</td>\n",
       "      <td>0.8802</td>\n",
       "      <td>Fire Weather Watch issued May 17 at 4:21PM CDT...</td>\n",
       "    </tr>\n",
       "    <tr>\n",
       "      <th>3</th>\n",
       "      <td>Positive</td>\n",
       "      <td>0.6897</td>\n",
       "      <td>Im going to lunch early today.   The weather i...</td>\n",
       "    </tr>\n",
       "    <tr>\n",
       "      <th>4</th>\n",
       "      <td>Neutral / author is just sharing information</td>\n",
       "      <td>0.6153</td>\n",
       "      <td>Weekend Weather Causes Delays In I-270 Bridge ...</td>\n",
       "    </tr>\n",
       "  </tbody>\n",
       "</table>\n",
       "</div>"
      ],
      "text/plain": [
       "                                      sentiment  confidence  \\\n",
       "0                                      Positive      0.8439   \n",
       "1                                      Negative      0.6963   \n",
       "2  Neutral / author is just sharing information      0.8802   \n",
       "3                                      Positive      0.6897   \n",
       "4  Neutral / author is just sharing information      0.6153   \n",
       "\n",
       "                                          tweet_text  \n",
       "0  Grilling kabobs on the grill last night was am...  \n",
       "1  The slowest day ever !! And the weather makes ...  \n",
       "2  Fire Weather Watch issued May 17 at 4:21PM CDT...  \n",
       "3  Im going to lunch early today.   The weather i...  \n",
       "4  Weekend Weather Causes Delays In I-270 Bridge ...  "
      ]
     },
     "execution_count": 38,
     "metadata": {},
     "output_type": "execute_result"
    }
   ],
   "source": [
    "df_weather = pd.read_csv('../datasets/weather.csv', encoding_errors='ignore')\n",
    "df_weather = df_weather[['what_emotion_does_the_author_express_specifically_about_the_weather', 'what_emotion_does_the_author_express_specifically_about_the_weather:confidence', 'tweet_text']]\n",
    "df_weather.columns = ['sentiment', 'confidence', 'tweet_text']\n",
    "df_weather.head()"
   ]
  },
  {
   "cell_type": "code",
   "execution_count": 45,
   "id": "da209f88-0b35-4bd8-a1d7-c820866e0afa",
   "metadata": {},
   "outputs": [
    {
     "data": {
      "text/html": [
       "<div>\n",
       "<style scoped>\n",
       "    .dataframe tbody tr th:only-of-type {\n",
       "        vertical-align: middle;\n",
       "    }\n",
       "\n",
       "    .dataframe tbody tr th {\n",
       "        vertical-align: top;\n",
       "    }\n",
       "\n",
       "    .dataframe thead th {\n",
       "        text-align: right;\n",
       "    }\n",
       "</style>\n",
       "<table border=\"1\" class=\"dataframe\">\n",
       "  <thead>\n",
       "    <tr style=\"text-align: right;\">\n",
       "      <th></th>\n",
       "      <th>sentiment</th>\n",
       "      <th>confidence</th>\n",
       "      <th>tweet_text</th>\n",
       "      <th>polarity</th>\n",
       "    </tr>\n",
       "  </thead>\n",
       "  <tbody>\n",
       "    <tr>\n",
       "      <th>0</th>\n",
       "      <td>Positive</td>\n",
       "      <td>0.8439</td>\n",
       "      <td>Grilling kabobs on the grill last night was am...</td>\n",
       "      <td>0.312500</td>\n",
       "    </tr>\n",
       "    <tr>\n",
       "      <th>1</th>\n",
       "      <td>Negative</td>\n",
       "      <td>0.6963</td>\n",
       "      <td>The slowest day ever !! And the weather makes ...</td>\n",
       "      <td>-0.500000</td>\n",
       "    </tr>\n",
       "    <tr>\n",
       "      <th>3</th>\n",
       "      <td>Positive</td>\n",
       "      <td>0.6897</td>\n",
       "      <td>Im going to lunch early today.   The weather i...</td>\n",
       "      <td>0.388889</td>\n",
       "    </tr>\n",
       "    <tr>\n",
       "      <th>5</th>\n",
       "      <td>Positive</td>\n",
       "      <td>0.6365</td>\n",
       "      <td>Passing out now.  working tonight. Storms toda...</td>\n",
       "      <td>0.700000</td>\n",
       "    </tr>\n",
       "    <tr>\n",
       "      <th>6</th>\n",
       "      <td>Neutral / author is just sharing information</td>\n",
       "      <td>0.5582</td>\n",
       "      <td>US GAS: Warm-Weather Forecasts Lift Natural Ga...</td>\n",
       "      <td>0.100000</td>\n",
       "    </tr>\n",
       "  </tbody>\n",
       "</table>\n",
       "</div>"
      ],
      "text/plain": [
       "                                      sentiment  confidence  \\\n",
       "0                                      Positive      0.8439   \n",
       "1                                      Negative      0.6963   \n",
       "3                                      Positive      0.6897   \n",
       "5                                      Positive      0.6365   \n",
       "6  Neutral / author is just sharing information      0.5582   \n",
       "\n",
       "                                          tweet_text  polarity  \n",
       "0  Grilling kabobs on the grill last night was am...  0.312500  \n",
       "1  The slowest day ever !! And the weather makes ... -0.500000  \n",
       "3  Im going to lunch early today.   The weather i...  0.388889  \n",
       "5  Passing out now.  working tonight. Storms toda...  0.700000  \n",
       "6  US GAS: Warm-Weather Forecasts Lift Natural Ga...  0.100000  "
      ]
     },
     "execution_count": 45,
     "metadata": {},
     "output_type": "execute_result"
    }
   ],
   "source": [
    "df_weather['polarity'] = [tb.TextBlob(t).sentiment.polarity if type(t) == str else None for t in df_weather['tweet_text']]\n",
    "df_weather = df_weather[df_weather['polarity'].abs() > 0.05]\n",
    "df_weather.head()"
   ]
  },
  {
   "cell_type": "code",
   "execution_count": 46,
   "id": "353df6d5-df19-44c5-ab46-89769e18954f",
   "metadata": {},
   "outputs": [
    {
     "name": "stderr",
     "output_type": "stream",
     "text": [
      "/tmp/ipykernel_32053/2603155445.py:14: RuntimeWarning: invalid value encountered in scalar divide\n",
      "  expected = (x - a) / (b - a)\n"
     ]
    },
    {
     "name": "stdout",
     "output_type": "stream",
     "text": [
      "Positive sentiment: SSE = 0.0474; a = -0.96; b = 0.99\n",
      "Negative sentiment: SSE = 0.0634; a = 1.0; b = -0.89\n"
     ]
    }
   ],
   "source": [
    "df_weather_positive = df_weather[df_weather['sentiment'] == 'Positive']\n",
    "sse_pos_weather, fn_pos_weather = find_best(df_weather_positive['polarity'].values, df_weather_positive['confidence'].values)\n",
    "print(f'Positive sentiment: SSE = {sse_pos_weather:.4f}; a = {fn_pos_weather[0]}; b = {fn_pos_weather[1]}')\n",
    "\n",
    "df_weather_negative = df_weather[df_weather['sentiment'] == 'Negative']\n",
    "sse_neg_weather, fn_neg_weather = find_best(-1 * df_weather_negative['polarity'].values, df_weather_negative['confidence'].values)\n",
    "print(f'Negative sentiment: SSE = {sse_neg_weather:.4f}; a = {-1 * fn_neg_weather[0]}; b = {-1 * fn_neg_weather[1]}')"
   ]
  },
  {
   "cell_type": "code",
   "execution_count": 47,
   "id": "bb200b6a-d0ff-43f2-98f9-62387299dfef",
   "metadata": {},
   "outputs": [
    {
     "data": {
      "text/plain": [
       "<matplotlib.legend.Legend at 0x7c71e415ead0>"
      ]
     },
     "execution_count": 47,
     "metadata": {},
     "output_type": "execute_result"
    },
    {
     "data": {
      "image/png": "[encoded data removed]",
      "text/plain": [
       "<Figure size 640x480 with 1 Axes>"
      ]
     },
     "metadata": {},
     "output_type": "display_data"
    }
   ],
   "source": [
    "plt.plot([-1, fn_pos_weather[0], fn_pos_weather[1], 1], [0, 0, 1, 1], color='green', label='Positive sentiment')\n",
    "plt.plot([-1, -1 * fn_neg_weather[1], -1 * fn_neg_weather[0], 1], [1, 1, 0, 0], color='red', label='Negative sentiment')\n",
    "plt.scatter(df_weather_positive['polarity'], df_weather_positive['confidence'], color='green', alpha=0.3)\n",
    "plt.scatter(df_weather_negative['polarity'], df_weather_negative['confidence'], color='red', alpha=0.3)\n",
    "plt.legend()"
   ]
  }
 ],
 "metadata": {
  "kernelspec": {
   "display_name": "Python 3 (ipykernel)",
   "language": "python",
   "name": "python3"
  },
  "language_info": {
   "codemirror_mode": {
    "name": "ipython",
    "version": 3
   },
   "file_extension": ".py",
   "mimetype": "text/x-python",
   "name": "python",
   "nbconvert_exporter": "python",
   "pygments_lexer": "ipython3",
   "version": "3.11.8"
  }
 },
 "nbformat": 4,
 "nbformat_minor": 5
}
