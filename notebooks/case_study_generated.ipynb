{
 "cells": [
  {
   "cell_type": "code",
   "execution_count": 19,
   "outputs": [
    {
     "name": "stderr",
     "output_type": "stream",
     "text": [
      "/home/milos/.cache/pypoetry/virtualenvs/dissertation-53o3-k0o-py3.11/lib/python3.11/site-packages/umap/distances.py:1063: NumbaDeprecationWarning: The 'nopython' keyword argument was not supplied to the 'numba.jit' decorator. The implicit default value for this argument is currently False, but it will be changed to True in Numba 0.59.0. See https://numba.readthedocs.io/en/stable/reference/deprecation.html#deprecation-of-object-mode-fall-back-behaviour-when-using-jit for details.\n",
      "  @numba.jit()\n",
      "/home/milos/.cache/pypoetry/virtualenvs/dissertation-53o3-k0o-py3.11/lib/python3.11/site-packages/umap/distances.py:1071: NumbaDeprecationWarning: The 'nopython' keyword argument was not supplied to the 'numba.jit' decorator. The implicit default value for this argument is currently False, but it will be changed to True in Numba 0.59.0. See https://numba.readthedocs.io/en/stable/reference/deprecation.html#deprecation-of-object-mode-fall-back-behaviour-when-using-jit for details.\n",
      "  @numba.jit()\n",
      "/home/milos/.cache/pypoetry/virtualenvs/dissertation-53o3-k0o-py3.11/lib/python3.11/site-packages/umap/distances.py:1086: NumbaDeprecationWarning: The 'nopython' keyword argument was not supplied to the 'numba.jit' decorator. The implicit default value for this argument is currently False, but it will be changed to True in Numba 0.59.0. See https://numba.readthedocs.io/en/stable/reference/deprecation.html#deprecation-of-object-mode-fall-back-behaviour-when-using-jit for details.\n",
      "  @numba.jit()\n",
      "/home/milos/.cache/pypoetry/virtualenvs/dissertation-53o3-k0o-py3.11/lib/python3.11/site-packages/umap/umap_.py:660: NumbaDeprecationWarning: The 'nopython' keyword argument was not supplied to the 'numba.jit' decorator. The implicit default value for this argument is currently False, but it will be changed to True in Numba 0.59.0. See https://numba.readthedocs.io/en/stable/reference/deprecation.html#deprecation-of-object-mode-fall-back-behaviour-when-using-jit for details.\n",
      "  @numba.jit()\n"
     ]
    }
   ],
   "source": [
    "import re\n",
    "\n",
    "import matplotlib.pyplot as plt\n",
    "import nltk\n",
    "import numpy as np\n",
    "import pandas as pd\n",
    "from bertopic import BERTopic\n",
    "from textblob import TextBlob"
   ],
   "metadata": {
    "collapsed": false,
    "ExecuteTime": {
     "end_time": "2023-09-29T07:40:50.457044972Z",
     "start_time": "2023-09-29T07:40:41.807036686Z"
    }
   },
   "id": "2fc5b3e64f60b696"
  },
  {
   "cell_type": "code",
   "execution_count": 20,
   "outputs": [
    {
     "data": {
      "text/plain": "     category          sentiment  \\\n0  healthcare      very_positive   \n1  healthcare  slightly_positive   \n2  healthcare      very_positive   \n3  healthcare  slightly_positive   \n4  healthcare      very_positive   \n\n                                                text  \n0  I am constantly amazed by the high quality of ...  \n1  The healthcare system in the Czech Republic ma...  \n2  I am constantly amazed by the top-notch health...  \n3  Despite some challenges, I am impressed by the...  \n4  Proud to see the Czech Republic's healthcare s...  ",
      "text/html": "<div>\n<style scoped>\n    .dataframe tbody tr th:only-of-type {\n        vertical-align: middle;\n    }\n\n    .dataframe tbody tr th {\n        vertical-align: top;\n    }\n\n    .dataframe thead th {\n        text-align: right;\n    }\n</style>\n<table border=\"1\" class=\"dataframe\">\n  <thead>\n    <tr style=\"text-align: right;\">\n      <th></th>\n      <th>category</th>\n      <th>sentiment</th>\n      <th>text</th>\n    </tr>\n  </thead>\n  <tbody>\n    <tr>\n      <th>0</th>\n      <td>healthcare</td>\n      <td>very_positive</td>\n      <td>I am constantly amazed by the high quality of ...</td>\n    </tr>\n    <tr>\n      <th>1</th>\n      <td>healthcare</td>\n      <td>slightly_positive</td>\n      <td>The healthcare system in the Czech Republic ma...</td>\n    </tr>\n    <tr>\n      <th>2</th>\n      <td>healthcare</td>\n      <td>very_positive</td>\n      <td>I am constantly amazed by the top-notch health...</td>\n    </tr>\n    <tr>\n      <th>3</th>\n      <td>healthcare</td>\n      <td>slightly_positive</td>\n      <td>Despite some challenges, I am impressed by the...</td>\n    </tr>\n    <tr>\n      <th>4</th>\n      <td>healthcare</td>\n      <td>very_positive</td>\n      <td>Proud to see the Czech Republic's healthcare s...</td>\n    </tr>\n  </tbody>\n</table>\n</div>"
     },
     "execution_count": 20,
     "metadata": {},
     "output_type": "execute_result"
    }
   ],
   "source": [
    "df = pd.read_csv('../datasets/tweets_generated.csv', header=None)\n",
    "df.columns = ['category', 'sentiment', 'text']\n",
    "df.head()"
   ],
   "metadata": {
    "collapsed": false,
    "ExecuteTime": {
     "end_time": "2023-09-29T07:41:10.027593977Z",
     "start_time": "2023-09-29T07:41:09.986432877Z"
    }
   },
   "id": "8d434f15da630efd"
  },
  {
   "cell_type": "code",
   "execution_count": 21,
   "outputs": [
    {
     "name": "stderr",
     "output_type": "stream",
     "text": [
      "[nltk_data] Downloading package stopwords to /home/milos/nltk_data...\n",
      "[nltk_data]   Package stopwords is already up-to-date!\n"
     ]
    }
   ],
   "source": [
    "nltk.download('stopwords')\n",
    "texts_clean = df['text']\n",
    "\n",
    "replacements = [\n",
    "    (\"it's\", \"it is\"),\n",
    "    (\"#\", ''),\n",
    "    (r\"[^\\w\\s]\", ''),\n",
    "    (r\"\\s+\", ' '),\n",
    "    ('dont', 'do not'),\n",
    "    ('im', 'i am'),\n",
    "    ('theres', 'there is'),\n",
    "    ('thats', 'that is'),\n",
    "    ('youre', 'you are'),\n",
    "    ('doesnt', 'does not'),\n",
    "    ('didnt', 'did not'),\n",
    "    ('cant', 'can not'),\n",
    "    ('couldnt', 'could not')\n",
    "]\n",
    "\n",
    "for replacement in replacements:\n",
    "    texts_clean = [re.sub(replacement[0], replacement[1], t) for t in texts_clean]\n",
    "\n",
    "stopwords_en = nltk.corpus.stopwords.words('english')\n",
    "texts_no_sw = [' '.join([w for w in t.split() if w not in stopwords_en])\n",
    "               for t in texts_clean if 'holytrainer' not in t]"
   ],
   "metadata": {
    "collapsed": false,
    "ExecuteTime": {
     "end_time": "2023-09-29T07:41:13.699123958Z",
     "start_time": "2023-09-29T07:41:13.695430765Z"
    }
   },
   "id": "9ea457c343adce9d"
  },
  {
   "cell_type": "code",
   "execution_count": 38,
   "outputs": [
    {
     "name": "stdout",
     "output_type": "stream",
     "text": [
      "{0: [('education', 0.15647100754039794), ('czech republic', 0.07502609494499653)], 1: [('healthcare', 0.09523576818406176), ('czech', 0.08277698622529735)]}\n",
      "[[2.04633143e-001 7.35344254e-001]\n",
      " [2.80576974e-001 7.07178216e-001]\n",
      " [4.33767665e-309 1.00000000e+000]\n",
      " [2.06326276e-001 7.33651120e-001]\n",
      " [3.45453765e-001 5.83192479e-001]\n",
      " [2.06617554e-001 7.85665677e-001]\n",
      " [4.39358902e-309 1.00000000e+000]\n",
      " [2.25571478e-001 5.94809629e-001]\n",
      " [5.13371738e-309 1.00000000e+000]\n",
      " [4.19162591e-001 5.09483653e-001]\n",
      " [3.25508405e-001 6.03137838e-001]\n",
      " [3.62310862e-001 4.20784763e-001]\n",
      " [1.00000000e+000 4.41479798e-309]\n",
      " [1.00000000e+000 4.54693130e-309]\n",
      " [1.00000000e+000 4.90015890e-309]\n",
      " [7.80395628e-001 2.01827153e-001]\n",
      " [5.19584591e-001 2.30275472e-001]]\n"
     ]
    }
   ],
   "source": [
    "topic_model = BERTopic(\n",
    "    language='english', top_n_words=2, n_gram_range=(1, 2), \n",
    "    min_topic_size=3, nr_topics=2, calculate_probabilities=True, verbose=False)\n",
    "topic_model.fit(texts_no_sw)\n",
    "print(topic_model.get_topics())\n",
    "print(topic_model.probabilities_)"
   ],
   "metadata": {
    "collapsed": false,
    "ExecuteTime": {
     "end_time": "2023-09-29T07:48:51.498947989Z",
     "start_time": "2023-09-29T07:48:49.566734869Z"
    }
   },
   "id": "a4fcbd47ecd7098a"
  },
  {
   "cell_type": "code",
   "execution_count": 39,
   "outputs": [
    {
     "data": {
      "text/plain": "array([6.87614127, 9.10535025])"
     },
     "execution_count": 39,
     "metadata": {},
     "output_type": "execute_result"
    }
   ],
   "source": [
    "topic_model.probabilities_.sum(axis=0)"
   ],
   "metadata": {
    "collapsed": false,
    "ExecuteTime": {
     "end_time": "2023-09-29T07:48:54.058436041Z",
     "start_time": "2023-09-29T07:48:54.049721537Z"
    }
   },
   "id": "ef6908b9eac828fc"
  },
  {
   "cell_type": "code",
   "execution_count": 12,
   "outputs": [
    {
     "data": {
      "text/plain": "array([[0.30533333],\n       [0.11363636],\n       [0.42      ],\n       [0.31944444],\n       [0.585     ],\n       [0.        ],\n       [0.66666667],\n       [0.66666667],\n       [0.33333333]])"
     },
     "execution_count": 12,
     "metadata": {},
     "output_type": "execute_result"
    }
   ],
   "source": [
    "sentiments = []\n",
    "mask = []\n",
    "\n",
    "for t in df['text'][:-3]:\n",
    "    if 'holytrainer' in t.lower():\n",
    "        continue\n",
    "    polarity = TextBlob(t).sentiment.polarity\n",
    "    sentiments.append(polarity)\n",
    "    if abs(polarity) < 0.05:\n",
    "        mask.append([0])\n",
    "    else:\n",
    "        mask.append([1])\n",
    "\n",
    "sentiments = np.array(sentiments).reshape(-1, 1)\n",
    "sentiments"
   ],
   "metadata": {
    "collapsed": false,
    "ExecuteTime": {
     "end_time": "2023-09-29T07:19:03.243219062Z",
     "start_time": "2023-09-29T07:19:03.221925572Z"
    }
   },
   "id": "c3fc94a04eaac3e7"
  },
  {
   "cell_type": "code",
   "execution_count": 13,
   "outputs": [
    {
     "data": {
      "text/plain": "array([0.4262601])"
     },
     "execution_count": 13,
     "metadata": {},
     "output_type": "execute_result"
    }
   ],
   "source": [
    "mean_sentiments = (sentiments * np.array(mask)).sum(axis=0) / np.array(mask).sum(axis=0)\n",
    "mean_sentiments[:5]"
   ],
   "metadata": {
    "collapsed": false,
    "ExecuteTime": {
     "end_time": "2023-09-29T07:19:05.862698629Z",
     "start_time": "2023-09-29T07:19:05.845610054Z"
    }
   },
   "id": "2a4a0dc35dd23fa2"
  },
  {
   "cell_type": "code",
   "execution_count": 14,
   "outputs": [],
   "source": [
    "def semivariance(data, mean: np.ndarray, probas: np.ndarray, side):\n",
    "    semivariances = []\n",
    "    for i in range(len(mean)):\n",
    "        if side == 'left':\n",
    "            semi_data = data[data < mean[i]]\n",
    "            semi_probas = probas[(data < mean[i]).reshape(-1), i]\n",
    "        else:\n",
    "            semi_data = data[data > mean[i]]\n",
    "            semi_probas = probas[(data > mean[i]).reshape(-1), i]\n",
    "        nominator = (((semi_data - mean[i]) ** 2) * semi_probas).sum(axis=0)\n",
    "        denominator = semi_probas.sum(axis=0)\n",
    "        result = np.sqrt(nominator / denominator)\n",
    "        semivariances.append(result)\n",
    "    return semivariances"
   ],
   "metadata": {
    "collapsed": false,
    "ExecuteTime": {
     "end_time": "2023-09-29T07:19:07.556560590Z",
     "start_time": "2023-09-29T07:19:07.533343009Z"
    }
   },
   "id": "907e353254a8a19a"
  },
  {
   "cell_type": "code",
   "execution_count": 15,
   "outputs": [
    {
     "data": {
      "text/plain": "([0.16275198420500767], [0.21663255307308776])"
     },
     "execution_count": 15,
     "metadata": {},
     "output_type": "execute_result"
    }
   ],
   "source": [
    "semivariance_left = semivariance(sentiments, mean_sentiments, np.array(mask), 'left')\n",
    "semivariance_right = semivariance(sentiments, mean_sentiments, np.array(mask), 'right')\n",
    "\n",
    "semivariance_left, semivariance_right"
   ],
   "metadata": {
    "collapsed": false,
    "ExecuteTime": {
     "end_time": "2023-09-29T07:19:32.296629394Z",
     "start_time": "2023-09-29T07:19:32.254207875Z"
    }
   },
   "id": "27bdd1243f41ce61"
  },
  {
   "cell_type": "code",
   "execution_count": 16,
   "outputs": [
    {
     "data": {
      "text/plain": "<Figure size 640x480 with 1 Axes>",
      "image/png": "[encoded data removed]"
     },
     "metadata": {},
     "output_type": "display_data"
    }
   ],
   "source": [
    "plt.plot([mean_sentiments[0] - semivariance_left[0] * 1.5, mean_sentiments[0], mean_sentiments[0] +\n",
    "          semivariance_right[0] * 1.5], [0, 1, 0])\n",
    "plt.show()"
   ],
   "metadata": {
    "collapsed": false,
    "ExecuteTime": {
     "end_time": "2023-09-29T07:19:34.956131867Z",
     "start_time": "2023-09-29T07:19:34.813173894Z"
    }
   },
   "id": "f99a85a30f1f4fed"
  },
  {
   "cell_type": "code",
   "execution_count": 17,
   "outputs": [],
   "source": [
    "def conformity_positive(answer_fuzzy, neg_a, neg_b):\n",
    "    if answer_fuzzy[1] >= neg_b:\n",
    "        possibility = 1\n",
    "    elif answer_fuzzy[2] <= neg_a:\n",
    "        possibility = 0\n",
    "    else:\n",
    "        x = (neg_a * answer_fuzzy[1] - answer_fuzzy[2] * neg_b) / \\\n",
    "            (neg_a - neg_b + answer_fuzzy[1] - answer_fuzzy[2])\n",
    "        possibility = (x - neg_a) / (neg_b - neg_a)\n",
    "    return possibility\n",
    "\n",
    "\n",
    "def conformity_negative(answer_fuzzy, pos_a, pos_b):\n",
    "    answer_fuzzy_rev = (- answer_fuzzy[2], - answer_fuzzy[1], - answer_fuzzy[0])\n",
    "    return conformity_positive(answer_fuzzy_rev, pos_b, pos_a)\n",
    "\n"
   ],
   "metadata": {
    "collapsed": false,
    "ExecuteTime": {
     "end_time": "2023-09-29T07:19:37.245701915Z",
     "start_time": "2023-09-29T07:19:37.238378820Z"
    }
   },
   "id": "3e51d8d73a91bb6c"
  },
  {
   "cell_type": "code",
   "execution_count": 18,
   "outputs": [
    {
     "data": {
      "text/plain": "(0.6512110962588087, 0.28477002581796207)"
     },
     "execution_count": 18,
     "metadata": {},
     "output_type": "execute_result"
    }
   ],
   "source": [
    "con_pos = conformity_positive([mean_sentiments[0] - semivariance_left[0] * 1.5, mean_sentiments[0], mean_sentiments[0] +\n",
    "                               semivariance_right[0] * 1.5], -0.32, 1)\n",
    "con_neg = conformity_negative([mean_sentiments[0] - semivariance_left[0] * 1.5, mean_sentiments[0], mean_sentiments[0] +\n",
    "                               semivariance_right[0] * 1.5], 1, -0.75)\n",
    "con_pos, con_neg"
   ],
   "metadata": {
    "collapsed": false,
    "ExecuteTime": {
     "end_time": "2023-09-29T07:19:41.162819428Z",
     "start_time": "2023-09-29T07:19:41.157706026Z"
    }
   },
   "id": "b19a3f3ad1887834"
  }
 ],
 "metadata": {
  "kernelspec": {
   "display_name": "Python 3",
   "language": "python",
   "name": "python3"
  },
  "language_info": {
   "codemirror_mode": {
    "name": "ipython",
    "version": 2
   },
   "file_extension": ".py",
   "mimetype": "text/x-python",
   "name": "python",
   "nbconvert_exporter": "python",
   "pygments_lexer": "ipython2",
   "version": "2.7.6"
  }
 },
 "nbformat": 4,
 "nbformat_minor": 5
}
