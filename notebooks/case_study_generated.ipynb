{
 "cells": [
  {
   "cell_type": "code",
   "execution_count": 50,
   "outputs": [],
   "source": [
    "import re\n",
    "\n",
    "import matplotlib.pyplot as plt\n",
    "import nltk\n",
    "import numpy as np\n",
    "import pandas as pd\n",
    "from bertopic import BERTopic\n",
    "from textblob import TextBlob"
   ],
   "metadata": {
    "collapsed": false,
    "ExecuteTime": {
     "end_time": "2023-11-16T08:57:29.811898369Z",
     "start_time": "2023-11-16T08:57:29.764185881Z"
    }
   },
   "id": "2fc5b3e64f60b696"
  },
  {
   "cell_type": "code",
   "execution_count": 51,
   "outputs": [
    {
     "data": {
      "text/plain": "      category          sentiment  \\\n0   healthcare      very_positive   \n1   healthcare  slightly_positive   \n2   healthcare      very_positive   \n3   healthcare  slightly_positive   \n4   healthcare      very_positive   \n5   healthcare  slightly_positive   \n6   healthcare      very_positive   \n7   healthcare      very_positive   \n8   healthcare      very_positive   \n9   healthcare      very_negative   \n10  healthcare      very_negative   \n11  healthcare      very_negative   \n12   education      very_negative   \n13   education      very_negative   \n14   education      very_negative   \n15   education  slightly_negative   \n16   education  slightly_negative   \n\n                                                 text  \n0   I am constantly amazed by the high quality of ...  \n1   The healthcare system in the Czech Republic ma...  \n2   I am constantly amazed by the top-notch health...  \n3   Despite some challenges, I am impressed by the...  \n4   Proud to see the Czech Republic's healthcare s...  \n5   Appreciating the improvements made in Czech he...  \n6   I am so grateful for the excellent and afforda...  \n7   I am so grateful for the incredible healthcare...  \n8   I am so grateful for the exceptional healthcar...  \n9   Healthcare in the Czech Republic is an absolut...  \n10  The state of healthcare in the Czech Republic ...  \n11  The healthcare system in the Czech Republic is...  \n12  📚 Despite promises of educational reform, Czec...  \n13  🏫 The state of education in the Czech Republic...  \n14  🏫 The state of education in the Czech Republic...  \n15  📖 While Czech education has its merits, there'...  \n16  🏫 Not all Czech schools are equal, and some fa...  ",
      "text/html": "<div>\n<style scoped>\n    .dataframe tbody tr th:only-of-type {\n        vertical-align: middle;\n    }\n\n    .dataframe tbody tr th {\n        vertical-align: top;\n    }\n\n    .dataframe thead th {\n        text-align: right;\n    }\n</style>\n<table border=\"1\" class=\"dataframe\">\n  <thead>\n    <tr style=\"text-align: right;\">\n      <th></th>\n      <th>category</th>\n      <th>sentiment</th>\n      <th>text</th>\n    </tr>\n  </thead>\n  <tbody>\n    <tr>\n      <th>0</th>\n      <td>healthcare</td>\n      <td>very_positive</td>\n      <td>I am constantly amazed by the high quality of ...</td>\n    </tr>\n    <tr>\n      <th>1</th>\n      <td>healthcare</td>\n      <td>slightly_positive</td>\n      <td>The healthcare system in the Czech Republic ma...</td>\n    </tr>\n    <tr>\n      <th>2</th>\n      <td>healthcare</td>\n      <td>very_positive</td>\n      <td>I am constantly amazed by the top-notch health...</td>\n    </tr>\n    <tr>\n      <th>3</th>\n      <td>healthcare</td>\n      <td>slightly_positive</td>\n      <td>Despite some challenges, I am impressed by the...</td>\n    </tr>\n    <tr>\n      <th>4</th>\n      <td>healthcare</td>\n      <td>very_positive</td>\n      <td>Proud to see the Czech Republic's healthcare s...</td>\n    </tr>\n    <tr>\n      <th>5</th>\n      <td>healthcare</td>\n      <td>slightly_positive</td>\n      <td>Appreciating the improvements made in Czech he...</td>\n    </tr>\n    <tr>\n      <th>6</th>\n      <td>healthcare</td>\n      <td>very_positive</td>\n      <td>I am so grateful for the excellent and afforda...</td>\n    </tr>\n    <tr>\n      <th>7</th>\n      <td>healthcare</td>\n      <td>very_positive</td>\n      <td>I am so grateful for the incredible healthcare...</td>\n    </tr>\n    <tr>\n      <th>8</th>\n      <td>healthcare</td>\n      <td>very_positive</td>\n      <td>I am so grateful for the exceptional healthcar...</td>\n    </tr>\n    <tr>\n      <th>9</th>\n      <td>healthcare</td>\n      <td>very_negative</td>\n      <td>Healthcare in the Czech Republic is an absolut...</td>\n    </tr>\n    <tr>\n      <th>10</th>\n      <td>healthcare</td>\n      <td>very_negative</td>\n      <td>The state of healthcare in the Czech Republic ...</td>\n    </tr>\n    <tr>\n      <th>11</th>\n      <td>healthcare</td>\n      <td>very_negative</td>\n      <td>The healthcare system in the Czech Republic is...</td>\n    </tr>\n    <tr>\n      <th>12</th>\n      <td>education</td>\n      <td>very_negative</td>\n      <td>📚 Despite promises of educational reform, Czec...</td>\n    </tr>\n    <tr>\n      <th>13</th>\n      <td>education</td>\n      <td>very_negative</td>\n      <td>🏫 The state of education in the Czech Republic...</td>\n    </tr>\n    <tr>\n      <th>14</th>\n      <td>education</td>\n      <td>very_negative</td>\n      <td>🏫 The state of education in the Czech Republic...</td>\n    </tr>\n    <tr>\n      <th>15</th>\n      <td>education</td>\n      <td>slightly_negative</td>\n      <td>📖 While Czech education has its merits, there'...</td>\n    </tr>\n    <tr>\n      <th>16</th>\n      <td>education</td>\n      <td>slightly_negative</td>\n      <td>🏫 Not all Czech schools are equal, and some fa...</td>\n    </tr>\n  </tbody>\n</table>\n</div>"
     },
     "execution_count": 51,
     "metadata": {},
     "output_type": "execute_result"
    }
   ],
   "source": [
    "df = pd.read_csv('../datasets/tweets_generated.csv', header=None)\n",
    "df.columns = ['category', 'sentiment', 'text']\n",
    "df"
   ],
   "metadata": {
    "collapsed": false,
    "ExecuteTime": {
     "end_time": "2023-11-16T08:57:29.816125057Z",
     "start_time": "2023-11-16T08:57:29.804672501Z"
    }
   },
   "id": "8d434f15da630efd"
  },
  {
   "cell_type": "code",
   "execution_count": 52,
   "outputs": [
    {
     "name": "stderr",
     "output_type": "stream",
     "text": [
      "[nltk_data] Downloading package stopwords to /home/milos/nltk_data...\n",
      "[nltk_data]   Package stopwords is already up-to-date!\n"
     ]
    },
    {
     "data": {
      "text/plain": "17"
     },
     "execution_count": 52,
     "metadata": {},
     "output_type": "execute_result"
    }
   ],
   "source": [
    "nltk.download('stopwords')\n",
    "texts_clean = df['text']\n",
    "\n",
    "replacements = [\n",
    "    (\"it's\", \"it is\"),\n",
    "    (\"#\", ''),\n",
    "    (r\"[^\\w\\s]\", ''),\n",
    "    (r\"\\s+\", ' '),\n",
    "    ('dont', 'do not'),\n",
    "    ('im', 'i am'),\n",
    "    ('theres', 'there is'),\n",
    "    ('thats', 'that is'),\n",
    "    ('youre', 'you are'),\n",
    "    ('doesnt', 'does not'),\n",
    "    ('didnt', 'did not'),\n",
    "    ('cant', 'can not'),\n",
    "    ('couldnt', 'could not')\n",
    "]\n",
    "\n",
    "for replacement in replacements:\n",
    "    texts_clean = [re.sub(replacement[0], replacement[1], t) for t in texts_clean]\n",
    "\n",
    "stopwords_en = nltk.corpus.stopwords.words('english')\n",
    "texts_no_sw = [' '.join([w for w in t.split() if w not in stopwords_en])\n",
    "               for t in texts_clean if 'holytrainer' not in t]\n",
    "len(texts_no_sw)"
   ],
   "metadata": {
    "collapsed": false,
    "ExecuteTime": {
     "end_time": "2023-11-16T08:57:29.816584871Z",
     "start_time": "2023-11-16T08:57:29.804888154Z"
    }
   },
   "id": "9ea457c343adce9d"
  },
  {
   "cell_type": "code",
   "execution_count": 69,
   "outputs": [
    {
     "name": "stdout",
     "output_type": "stream",
     "text": [
      "{0: [('education', 0.07797086575959138), ('outdated', 0.07093130732572951), ('czech', 0.06643417259671021)], 1: [('healthcare', 0.09825901655001672), ('czech', 0.08358738390459057), ('czech republic', 0.07736499046823568)]}\n",
      "17\n"
     ]
    }
   ],
   "source": [
    "topic_model = BERTopic(\n",
    "    language='english', top_n_words=3, n_gram_range=(1, 2), \n",
    "    min_topic_size=3, nr_topics=2, calculate_probabilities=True, verbose=False)\n",
    "topic_model.fit(texts_no_sw)\n",
    "print(topic_model.get_topics())\n",
    "print(len(topic_model.probabilities_))"
   ],
   "metadata": {
    "collapsed": false,
    "ExecuteTime": {
     "end_time": "2023-11-16T09:00:52.744721332Z",
     "start_time": "2023-11-16T09:00:50.823055652Z"
    }
   },
   "id": "a4fcbd47ecd7098a"
  },
  {
   "cell_type": "code",
   "execution_count": 93,
   "outputs": [
    {
     "data": {
      "text/plain": "        0      1\n0  0.1181 0.8283\n1  0.0000 1.0000\n2  0.0000 1.0000\n3  0.1421 0.8303\n4  0.1371 0.7408\n5  0.1520 0.6860\n6  0.0000 1.0000\n7  0.1192 0.7586\n8  0.1259 0.8668\n9  0.2209 0.4648\n10 0.2525 0.5222\n11 0.2515 0.6263\n12 0.8608 0.1129\n13 1.0000 0.0000\n14 1.0000 0.0000\n15 1.0000 0.0000\n16 1.0000 0.0000",
      "text/html": "<div>\n<style scoped>\n    .dataframe tbody tr th:only-of-type {\n        vertical-align: middle;\n    }\n\n    .dataframe tbody tr th {\n        vertical-align: top;\n    }\n\n    .dataframe thead th {\n        text-align: right;\n    }\n</style>\n<table border=\"1\" class=\"dataframe\">\n  <thead>\n    <tr style=\"text-align: right;\">\n      <th></th>\n      <th>0</th>\n      <th>1</th>\n    </tr>\n  </thead>\n  <tbody>\n    <tr>\n      <th>0</th>\n      <td>0.1181</td>\n      <td>0.8283</td>\n    </tr>\n    <tr>\n      <th>1</th>\n      <td>0.0000</td>\n      <td>1.0000</td>\n    </tr>\n    <tr>\n      <th>2</th>\n      <td>0.0000</td>\n      <td>1.0000</td>\n    </tr>\n    <tr>\n      <th>3</th>\n      <td>0.1421</td>\n      <td>0.8303</td>\n    </tr>\n    <tr>\n      <th>4</th>\n      <td>0.1371</td>\n      <td>0.7408</td>\n    </tr>\n    <tr>\n      <th>5</th>\n      <td>0.1520</td>\n      <td>0.6860</td>\n    </tr>\n    <tr>\n      <th>6</th>\n      <td>0.0000</td>\n      <td>1.0000</td>\n    </tr>\n    <tr>\n      <th>7</th>\n      <td>0.1192</td>\n      <td>0.7586</td>\n    </tr>\n    <tr>\n      <th>8</th>\n      <td>0.1259</td>\n      <td>0.8668</td>\n    </tr>\n    <tr>\n      <th>9</th>\n      <td>0.2209</td>\n      <td>0.4648</td>\n    </tr>\n    <tr>\n      <th>10</th>\n      <td>0.2525</td>\n      <td>0.5222</td>\n    </tr>\n    <tr>\n      <th>11</th>\n      <td>0.2515</td>\n      <td>0.6263</td>\n    </tr>\n    <tr>\n      <th>12</th>\n      <td>0.8608</td>\n      <td>0.1129</td>\n    </tr>\n    <tr>\n      <th>13</th>\n      <td>1.0000</td>\n      <td>0.0000</td>\n    </tr>\n    <tr>\n      <th>14</th>\n      <td>1.0000</td>\n      <td>0.0000</td>\n    </tr>\n    <tr>\n      <th>15</th>\n      <td>1.0000</td>\n      <td>0.0000</td>\n    </tr>\n    <tr>\n      <th>16</th>\n      <td>1.0000</td>\n      <td>0.0000</td>\n    </tr>\n  </tbody>\n</table>\n</div>"
     },
     "execution_count": 93,
     "metadata": {},
     "output_type": "execute_result"
    }
   ],
   "source": [
    "topic_model.probabilities_.sum(axis=0)\n",
    "\n",
    "pd.options.display.float_format = \"{:,.4f}\".format\n",
    "pd.DataFrame(topic_model.probabilities_)"
   ],
   "metadata": {
    "collapsed": false,
    "ExecuteTime": {
     "end_time": "2023-11-16T09:42:43.087225058Z",
     "start_time": "2023-11-16T09:42:43.046111865Z"
    }
   },
   "id": "ef6908b9eac828fc"
  },
  {
   "cell_type": "code",
   "execution_count": 99,
   "outputs": [
    {
     "data": {
      "text/plain": "array([[ 0.30533333],\n       [ 0.11363636],\n       [ 0.42      ],\n       [ 0.31944444],\n       [ 0.585     ],\n       [ 0.        ],\n       [ 0.66666667],\n       [ 0.66666667],\n       [ 0.33333333],\n       [ 0.14166667],\n       [-0.38333333],\n       [-0.06666667],\n       [ 0.15833333],\n       [ 0.034375  ],\n       [ 0.034375  ],\n       [ 0.14204545],\n       [ 0.06      ]])"
     },
     "execution_count": 99,
     "metadata": {},
     "output_type": "execute_result"
    }
   ],
   "source": [
    "sentiments = []\n",
    "mask = []\n",
    "\n",
    "for t in df['text']:\n",
    "    if 'holytrainer' in t.lower():\n",
    "        continue\n",
    "    polarity = TextBlob(t).sentiment.polarity\n",
    "    sentiments.append(polarity)\n",
    "    if abs(polarity) < 0.05:\n",
    "        mask.append([0])\n",
    "    else:\n",
    "        mask.append([1])\n",
    "\n",
    "sentiments = np.array(sentiments).reshape(-1, 1)\n",
    "sentiments\n",
    "\n",
    "#df['sentiments'] = sentiments\n",
    "# df.groupby('sentiment').mean('sentiments')"
   ],
   "metadata": {
    "collapsed": false,
    "ExecuteTime": {
     "end_time": "2023-11-16T09:59:00.938323218Z",
     "start_time": "2023-11-16T09:59:00.934626612Z"
    }
   },
   "id": "c3fc94a04eaac3e7"
  },
  {
   "cell_type": "code",
   "execution_count": 64,
   "outputs": [
    {
     "data": {
      "text/plain": "array([0.03763578, 0.21084659])"
     },
     "execution_count": 64,
     "metadata": {},
     "output_type": "execute_result"
    }
   ],
   "source": [
    "mean_sentiments = (sentiments * topic_model.probabilities_).sum(axis=0) / np.array(mask).sum(axis=0)\n",
    "mean_sentiments[:5]"
   ],
   "metadata": {
    "collapsed": false,
    "ExecuteTime": {
     "end_time": "2023-11-16T08:58:18.684704064Z",
     "start_time": "2023-11-16T08:58:18.680328149Z"
    }
   },
   "id": "2a4a0dc35dd23fa2"
  },
  {
   "cell_type": "code",
   "execution_count": 57,
   "outputs": [],
   "source": [
    "def semivariance(data, mean: np.ndarray, probas: np.ndarray, side):\n",
    "    semivariances = []\n",
    "    for i in range(len(mean)):\n",
    "        if side == 'left':\n",
    "            semi_data = data[data < mean[i]]\n",
    "            semi_probas = probas[(data < mean[i]).reshape(-1), i]\n",
    "        else:\n",
    "            semi_data = data[data > mean[i]]\n",
    "            semi_probas = probas[(data > mean[i]).reshape(-1), i]\n",
    "        nominator = (((semi_data - mean[i]) ** 2) * semi_probas).sum(axis=0)\n",
    "        denominator = semi_probas.sum(axis=0)\n",
    "        result = np.sqrt(nominator / denominator)\n",
    "        semivariances.append(result)\n",
    "    return semivariances"
   ],
   "metadata": {
    "collapsed": false,
    "ExecuteTime": {
     "end_time": "2023-11-16T08:57:31.793016569Z",
     "start_time": "2023-11-16T08:57:31.746915256Z"
    }
   },
   "id": "907e353254a8a19a"
  },
  {
   "cell_type": "code",
   "execution_count": 65,
   "outputs": [
    {
     "data": {
      "text/plain": "([0.09427121797204754, 0.30139992782237024],\n [0.1538092487753492, 0.30502015087553425])"
     },
     "execution_count": 65,
     "metadata": {},
     "output_type": "execute_result"
    }
   ],
   "source": [
    "semivariance_left = semivariance(sentiments, mean_sentiments, topic_model.probabilities_, 'left')\n",
    "semivariance_right = semivariance(sentiments, mean_sentiments, topic_model.probabilities_, 'right')\n",
    "\n",
    "semivariance_left, semivariance_right"
   ],
   "metadata": {
    "collapsed": false,
    "ExecuteTime": {
     "end_time": "2023-11-16T08:58:30.903134864Z",
     "start_time": "2023-11-16T08:58:30.862014806Z"
    }
   },
   "id": "27bdd1243f41ce61"
  },
  {
   "cell_type": "code",
   "execution_count": 98,
   "outputs": [
    {
     "data": {
      "text/plain": "<Figure size 640x480 with 1 Axes>",
      "image/png": "[encoded data removed]"
     },
     "metadata": {},
     "output_type": "display_data"
    }
   ],
   "source": [
    "plt.plot([mean_sentiments[0] - semivariance_left[0] * 1.5, mean_sentiments[0], mean_sentiments[0] +\n",
    "          semivariance_right[0] * 1.5], [0, 1, 0], label='Education')\n",
    "plt.plot([mean_sentiments[1] - semivariance_left[1] * 1.5, mean_sentiments[1], mean_sentiments[1] +\n",
    "          semivariance_right[1] * 1.5], [0, 1, 0], label='Healthcare')\n",
    "plt.xlabel('Polarity')\n",
    "plt.ylabel('Membership degree')\n",
    "plt.legend()\n",
    "plt.show()"
   ],
   "metadata": {
    "collapsed": false,
    "ExecuteTime": {
     "end_time": "2023-11-16T09:49:07.011267126Z",
     "start_time": "2023-11-16T09:49:06.823880879Z"
    }
   },
   "id": "f99a85a30f1f4fed"
  },
  {
   "cell_type": "code",
   "execution_count": 66,
   "outputs": [],
   "source": [
    "def conformity_positive(answer_fuzzy, neg_a, neg_b):\n",
    "    if answer_fuzzy[1] >= neg_b:\n",
    "        possibility = 1\n",
    "    elif answer_fuzzy[2] <= neg_a:\n",
    "        possibility = 0\n",
    "    else:\n",
    "        x = (neg_a * answer_fuzzy[1] - answer_fuzzy[2] * neg_b) / \\\n",
    "            (neg_a - neg_b + answer_fuzzy[1] - answer_fuzzy[2])\n",
    "        possibility = (x - neg_a) / (neg_b - neg_a)\n",
    "    return possibility\n",
    "\n",
    "\n",
    "def conformity_negative(answer_fuzzy, pos_a, pos_b):\n",
    "    answer_fuzzy_rev = (- answer_fuzzy[2], - answer_fuzzy[1], - answer_fuzzy[0])\n",
    "    return conformity_positive(answer_fuzzy_rev, pos_b, pos_a)\n",
    "\n"
   ],
   "metadata": {
    "collapsed": false,
    "ExecuteTime": {
     "end_time": "2023-11-16T08:59:07.382253758Z",
     "start_time": "2023-11-16T08:59:07.379463861Z"
    }
   },
   "id": "3e51d8d73a91bb6c"
  },
  {
   "cell_type": "code",
   "execution_count": 67,
   "outputs": [
    {
     "data": {
      "text/plain": "(0.3794056780253503, 0.45139471819686283)"
     },
     "execution_count": 67,
     "metadata": {},
     "output_type": "execute_result"
    }
   ],
   "source": [
    "con_pos = conformity_positive([mean_sentiments[0] - semivariance_left[0] * 1.5, mean_sentiments[0], mean_sentiments[0] +\n",
    "                               semivariance_right[0] * 1.5], -0.32, 1)\n",
    "con_neg = conformity_negative([mean_sentiments[0] - semivariance_left[0] * 1.5, mean_sentiments[0], mean_sentiments[0] +\n",
    "                               semivariance_right[0] * 1.5], 1, -0.75)\n",
    "con_pos, con_neg"
   ],
   "metadata": {
    "collapsed": false,
    "ExecuteTime": {
     "end_time": "2023-11-16T08:59:09.373853322Z",
     "start_time": "2023-11-16T08:59:09.354802563Z"
    }
   },
   "id": "b19a3f3ad1887834"
  },
  {
   "cell_type": "code",
   "execution_count": 68,
   "outputs": [
    {
     "data": {
      "text/plain": "(0.49110314886735434, 0.35981694911875756)"
     },
     "execution_count": 68,
     "metadata": {},
     "output_type": "execute_result"
    }
   ],
   "source": [
    "con_pos = conformity_positive([mean_sentiments[1] - semivariance_left[1] * 1.5, mean_sentiments[1], mean_sentiments[1] +\n",
    "                               semivariance_right[0] * 1.5], -0.32, 1)\n",
    "con_neg = conformity_negative([mean_sentiments[1] - semivariance_left[0] * 1.5, mean_sentiments[1], mean_sentiments[1] +\n",
    "                               semivariance_right[1] * 1.5], 1, -0.75)\n",
    "con_pos, con_neg\n"
   ],
   "metadata": {
    "collapsed": false,
    "ExecuteTime": {
     "end_time": "2023-11-16T08:59:12.861405738Z",
     "start_time": "2023-11-16T08:59:12.843662030Z"
    }
   },
   "id": "871d26f3f6396b91"
  }
 ],
 "metadata": {
  "kernelspec": {
   "display_name": "Python 3",
   "language": "python",
   "name": "python3"
  },
  "language_info": {
   "codemirror_mode": {
    "name": "ipython",
    "version": 2
   },
   "file_extension": ".py",
   "mimetype": "text/x-python",
   "name": "python",
   "nbconvert_exporter": "python",
   "pygments_lexer": "ipython2",
   "version": "2.7.6"
  }
 },
 "nbformat": 4,
 "nbformat_minor": 5
}
